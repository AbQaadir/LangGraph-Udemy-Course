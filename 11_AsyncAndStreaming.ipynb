{
 "cells": [
  {
   "cell_type": "code",
   "execution_count": 11,
   "metadata": {},
   "outputs": [
    {
     "data": {
      "text/plain": [
       "True"
      ]
     },
     "execution_count": 11,
     "metadata": {},
     "output_type": "execute_result"
    }
   ],
   "source": [
    "from dotenv import load_dotenv\n",
    "\n",
    "load_dotenv()"
   ]
  },
  {
   "cell_type": "code",
   "execution_count": 12,
   "metadata": {},
   "outputs": [],
   "source": [
    "from typing import Annotated, Literal, TypedDict\n",
    "from langgraph.checkpoint.memory import MemorySaver\n",
    "from langchain_core.messages import BaseMessage, HumanMessage\n",
    "\n",
    "class ChatMessages(TypedDict):\n",
    "    messages: list[BaseMessage]"
   ]
  },
  {
   "cell_type": "code",
   "execution_count": 13,
   "metadata": {},
   "outputs": [],
   "source": [
    "from langgraph.graph import END, START, StateGraph, MessagesState\n",
    "from langchain_openai import ChatOpenAI\n",
    "from langchain_core.tools import tool\n",
    "from langgraph.prebuilt import ToolNode"
   ]
  },
  {
   "cell_type": "code",
   "execution_count": 14,
   "metadata": {},
   "outputs": [],
   "source": [
    "@tool\n",
    "def get_weather(location: str):\n",
    "    \"\"\"Call to get the current weather.\"\"\"\n",
    "    if location.lower() in [\"munich\"]:\n",
    "        return \"It's 15 degrees Celsius and cloudy.\"\n",
    "    else:\n",
    "        return \"It's 32 degrees Celsius and sunny.\""
   ]
  },
  {
   "cell_type": "code",
   "execution_count": 15,
   "metadata": {},
   "outputs": [],
   "source": [
    "tools=[get_weather]\n",
    "model = ChatOpenAI(model=\"gpt-4o-mini\").bind_tools(tools)"
   ]
  },
  {
   "cell_type": "code",
   "execution_count": 16,
   "metadata": {},
   "outputs": [],
   "source": [
    "def call_model(state: MessagesState):\n",
    "    messages = state['messages']\n",
    "    response = model.invoke(messages)\n",
    "    return {\"messages\": [response]}\n",
    "\n",
    "\n",
    "def should_continue(state: MessagesState) -> Literal[\"tools\", END]:\n",
    "    messages = state['messages']\n",
    "    last_message = messages[-1]\n",
    "    if last_message.tool_calls:\n",
    "        return \"tools\"\n",
    "    return END"
   ]
  },
  {
   "cell_type": "code",
   "execution_count": 17,
   "metadata": {},
   "outputs": [],
   "source": [
    "workflow = StateGraph(MessagesState)\n",
    "tool_node = ToolNode(tools)\n"
   ]
  },
  {
   "cell_type": "code",
   "execution_count": 18,
   "metadata": {},
   "outputs": [],
   "source": [
    "workflow = StateGraph(MessagesState)\n",
    "\n",
    "workflow.add_node(\"agent\", call_model)\n",
    "workflow.add_node(\"tools\", tool_node)\n",
    "\n",
    "workflow.add_edge(START, \"agent\")\n",
    "\n",
    "workflow.add_conditional_edges(\n",
    "    \"agent\",\n",
    "    should_continue,\n",
    ")\n",
    "workflow.add_edge(\"tools\", 'agent')\n",
    "\n",
    "graph = workflow.compile(checkpointer=MemorySaver())"
   ]
  },
  {
   "cell_type": "code",
   "execution_count": 19,
   "metadata": {},
   "outputs": [
    {
     "data": {
      "text/plain": [
       "{'messages': [HumanMessage(content='How is the weather in munich?', additional_kwargs={}, response_metadata={}, id='5bc74b30-e751-4d74-81f5-e7335afa7526'),\n",
       "  AIMessage(content='', additional_kwargs={'tool_calls': [{'id': 'call_HhOCV9urcI6jvqQ1ntRFbquN', 'function': {'arguments': '{\"location\":\"Munich\"}', 'name': 'get_weather'}, 'type': 'function'}], 'refusal': None}, response_metadata={'token_usage': {'completion_tokens': 15, 'prompt_tokens': 52, 'total_tokens': 67, 'completion_tokens_details': {'audio_tokens': None, 'reasoning_tokens': 0}, 'prompt_tokens_details': {'audio_tokens': None, 'cached_tokens': 0}}, 'model_name': 'gpt-4o-mini-2024-07-18', 'system_fingerprint': 'fp_0ba0d124f1', 'finish_reason': 'tool_calls', 'logprobs': None}, id='run-b53425c0-c354-4626-be49-966eb212406c-0', tool_calls=[{'name': 'get_weather', 'args': {'location': 'Munich'}, 'id': 'call_HhOCV9urcI6jvqQ1ntRFbquN', 'type': 'tool_call'}], usage_metadata={'input_tokens': 52, 'output_tokens': 15, 'total_tokens': 67, 'input_token_details': {'cache_read': 0}, 'output_token_details': {'reasoning': 0}}),\n",
       "  ToolMessage(content=\"It's 15 degrees Celsius and cloudy.\", name='get_weather', id='1ab42ce8-8336-440f-b42a-5a7273536ff7', tool_call_id='call_HhOCV9urcI6jvqQ1ntRFbquN'),\n",
       "  AIMessage(content='The weather in Munich is currently 15 degrees Celsius and cloudy.', additional_kwargs={'refusal': None}, response_metadata={'token_usage': {'completion_tokens': 14, 'prompt_tokens': 83, 'total_tokens': 97, 'completion_tokens_details': {'audio_tokens': None, 'reasoning_tokens': 0}, 'prompt_tokens_details': {'audio_tokens': None, 'cached_tokens': 0}}, 'model_name': 'gpt-4o-mini-2024-07-18', 'system_fingerprint': 'fp_0ba0d124f1', 'finish_reason': 'stop', 'logprobs': None}, id='run-b292d22f-3bac-4183-a916-885f4d37cb79-0', usage_metadata={'input_tokens': 83, 'output_tokens': 14, 'total_tokens': 97, 'input_token_details': {'cache_read': 0}, 'output_token_details': {'reasoning': 0}})]}"
      ]
     },
     "execution_count": 19,
     "metadata": {},
     "output_type": "execute_result"
    }
   ],
   "source": [
    "graph.invoke(\n",
    "    {\"messages\": [HumanMessage(content=\"How is the weather in munich?\")]},\n",
    "    config={\"configurable\": {\"thread_id\": 1}}\n",
    ")"
   ]
  },
  {
   "cell_type": "code",
   "execution_count": 20,
   "metadata": {},
   "outputs": [
    {
     "data": {
      "text/plain": [
       "{'messages': [HumanMessage(content='How is the weather in munich?', additional_kwargs={}, response_metadata={}, id='5bc74b30-e751-4d74-81f5-e7335afa7526'),\n",
       "  AIMessage(content='', additional_kwargs={'tool_calls': [{'id': 'call_HhOCV9urcI6jvqQ1ntRFbquN', 'function': {'arguments': '{\"location\":\"Munich\"}', 'name': 'get_weather'}, 'type': 'function'}], 'refusal': None}, response_metadata={'token_usage': {'completion_tokens': 15, 'prompt_tokens': 52, 'total_tokens': 67, 'completion_tokens_details': {'audio_tokens': None, 'reasoning_tokens': 0}, 'prompt_tokens_details': {'audio_tokens': None, 'cached_tokens': 0}}, 'model_name': 'gpt-4o-mini-2024-07-18', 'system_fingerprint': 'fp_0ba0d124f1', 'finish_reason': 'tool_calls', 'logprobs': None}, id='run-b53425c0-c354-4626-be49-966eb212406c-0', tool_calls=[{'name': 'get_weather', 'args': {'location': 'Munich'}, 'id': 'call_HhOCV9urcI6jvqQ1ntRFbquN', 'type': 'tool_call'}], usage_metadata={'input_tokens': 52, 'output_tokens': 15, 'total_tokens': 67, 'input_token_details': {'cache_read': 0}, 'output_token_details': {'reasoning': 0}}),\n",
       "  ToolMessage(content=\"It's 15 degrees Celsius and cloudy.\", name='get_weather', id='1ab42ce8-8336-440f-b42a-5a7273536ff7', tool_call_id='call_HhOCV9urcI6jvqQ1ntRFbquN'),\n",
       "  AIMessage(content='The weather in Munich is currently 15 degrees Celsius and cloudy.', additional_kwargs={'refusal': None}, response_metadata={'token_usage': {'completion_tokens': 14, 'prompt_tokens': 83, 'total_tokens': 97, 'completion_tokens_details': {'audio_tokens': None, 'reasoning_tokens': 0}, 'prompt_tokens_details': {'audio_tokens': None, 'cached_tokens': 0}}, 'model_name': 'gpt-4o-mini-2024-07-18', 'system_fingerprint': 'fp_0ba0d124f1', 'finish_reason': 'stop', 'logprobs': None}, id='run-b292d22f-3bac-4183-a916-885f4d37cb79-0', usage_metadata={'input_tokens': 83, 'output_tokens': 14, 'total_tokens': 97, 'input_token_details': {'cache_read': 0}, 'output_token_details': {'reasoning': 0}}),\n",
       "  HumanMessage(content='What would you recommend to do in that city than?', additional_kwargs={}, response_metadata={}, id='08fb9fc9-b54d-4ebe-8a48-abae204e5fd2'),\n",
       "  AIMessage(content=\"In Munich, there are plenty of activities and attractions to enjoy, especially with the mild weather. Here are some recommendations:\\n\\n1. **Visit Marienplatz**: This central square is home to the iconic New Town Hall (Neues Rathaus) and is a great place to start your exploration.\\n\\n2. **Explore the English Garden**: One of the largest city parks in the world, perfect for a leisurely stroll, a picnic, or even a beer at one of the beer gardens.\\n\\n3. **Check out the Nymphenburg Palace**: This stunning Baroque palace features beautiful gardens and stunning architecture.\\n\\n4. **Visit the Munich Residenz**: The former royal palace of the Bavarian monarchs, showcasing opulent rooms and a vast collection of art.\\n\\n5. **Enjoy a beer garden**: Experience local culture at one of Munich's famous beer gardens, like the Hofbräuhaus.\\n\\n6. **Explore the Deutsches Museum**: The world's largest museum of science and technology, offering a range of fascinating exhibits.\\n\\n7. **Take a stroll through Viktualienmarkt**: A vibrant market where you can taste local delicacies and buy fresh produce.\\n\\n8. **Visit the BMW Museum**: For car enthusiasts, this museum offers a look at the history and future of BMW.\\n\\n9. **Attend a local event or festival**: Depending on the time of year, you might find local festivals, markets, or cultural events to enjoy.\\n\\n10. **Discover street art**: Explore neighborhoods like Glockenbachviertel for some unique street art and vibrant culture.\\n\\nThese activities should keep you entertained while enjoying the pleasant weather in Munich!\", additional_kwargs={'refusal': None}, response_metadata={'token_usage': {'completion_tokens': 337, 'prompt_tokens': 115, 'total_tokens': 452, 'completion_tokens_details': {'audio_tokens': None, 'reasoning_tokens': 0}, 'prompt_tokens_details': {'audio_tokens': None, 'cached_tokens': 0}}, 'model_name': 'gpt-4o-mini-2024-07-18', 'system_fingerprint': 'fp_0ba0d124f1', 'finish_reason': 'stop', 'logprobs': None}, id='run-ec2209d1-70ee-4766-a30c-ef79cbc8330f-0', usage_metadata={'input_tokens': 115, 'output_tokens': 337, 'total_tokens': 452, 'input_token_details': {'cache_read': 0}, 'output_token_details': {'reasoning': 0}})]}"
      ]
     },
     "execution_count": 20,
     "metadata": {},
     "output_type": "execute_result"
    }
   ],
   "source": [
    "graph.invoke(\n",
    "    {\"messages\": [HumanMessage(content=\"What would you recommend to do in that city than?\")]},\n",
    "    config={\"configurable\": {\"thread_id\": 1}}\n",
    ")"
   ]
  },
  {
   "cell_type": "markdown",
   "metadata": {},
   "source": [
    "### Getting production ready - async and streaming"
   ]
  },
  {
   "cell_type": "code",
   "execution_count": 21,
   "metadata": {},
   "outputs": [],
   "source": [
    "model = ChatOpenAI(model=\"gpt-4o-mini\", streaming=True).bind_tools(tools)"
   ]
  },
  {
   "cell_type": "code",
   "execution_count": 22,
   "metadata": {},
   "outputs": [],
   "source": [
    "async def call_model(state: MessagesState):\n",
    "    messages = state[\"messages\"]\n",
    "    response = await model.ainvoke(messages)\n",
    "    return {\"messages\": [response]}"
   ]
  },
  {
   "cell_type": "code",
   "execution_count": 27,
   "metadata": {},
   "outputs": [],
   "source": [
    "workflow = StateGraph(MessagesState)\n",
    "tool_node = ToolNode(tools)\n",
    "\n",
    "workflow.add_node(\"agent\", call_model)\n",
    "workflow.add_node(\"tools\", tool_node)\n",
    "\n",
    "workflow.add_edge(START, \"agent\")\n",
    "\n",
    "workflow.add_conditional_edges(\n",
    "    \"agent\",\n",
    "    should_continue,\n",
    "    {\"tools\": \"tools\", END: END},\n",
    ")\n",
    "workflow.add_edge(\"tools\", \"agent\")\n",
    "\n",
    "graph = workflow.compile(checkpointer=MemorySaver())\n"
   ]
  },
  {
   "cell_type": "code",
   "execution_count": 30,
   "metadata": {},
   "outputs": [],
   "source": [
    "inputs = {\"messages\": [HumanMessage(content=\"How is the weather in Munich?\")]}\n",
    "config={\"configurable\": {\"thread_id\": 1}}"
   ]
  },
  {
   "cell_type": "code",
   "execution_count": 50,
   "metadata": {},
   "outputs": [
    {
     "name": "stdout",
     "output_type": "stream",
     "text": [
      "Output from node 'agent':\n",
      "---\n",
      "==================================\u001b[1m Ai Message \u001b[0m==================================\n",
      "Tool Calls:\n",
      "  get_weather (call_ySHrDuIZ6637GLZ2iMrdw7Ze)\n",
      " Call ID: call_ySHrDuIZ6637GLZ2iMrdw7Ze\n",
      "  Args:\n",
      "    location: San Francisco\n",
      "None\n",
      "Output from node 'tools':\n",
      "---\n",
      "=================================\u001b[1m Tool Message \u001b[0m=================================\n",
      "Name: get_weather\n",
      "\n",
      "It's 32 degrees Celsius and sunny.\n",
      "None\n",
      "Output from node 'agent':\n",
      "---\n",
      "==================================\u001b[1m Ai Message \u001b[0m==================================\n",
      "\n",
      "The weather in San Francisco is currently 32 degrees Celsius and sunny.\n",
      "None\n"
     ]
    }
   ],
   "source": [
    "inputs = {\"messages\": [HumanMessage(content=\"what is the weather in sf\")]}\n",
    "async for output in graph.astream(inputs, stream_mode=\"updates\", config=config):\n",
    "    # stream_mode=\"updates\" yields dictionaries with output keyed by node name\n",
    "    for key, value in output.items():\n",
    "        print(f\"Output from node '{key}':\")\n",
    "        print(\"---\")\n",
    "        print(value[\"messages\"][-1].pretty_print())"
   ]
  },
  {
   "cell_type": "code",
   "execution_count": 64,
   "metadata": {},
   "outputs": [
    {
     "name": "stdout",
     "output_type": "stream",
     "text": [
      "It's 32 degrees Celsius and sunny.|The| weather| in| San| Francisco| is| currently| |32| degrees| Celsius| and| sunny|.|"
     ]
    }
   ],
   "source": [
    "from langchain_core.messages import AIMessageChunk, HumanMessage\n",
    "\n",
    "inputs = [HumanMessage(content=\"what is the weather in sf\")]\n",
    "gathered = None\n",
    "\n",
    "async for msg, metadata in graph.astream({\"messages\": inputs}, stream_mode=\"messages\", config=config):\n",
    "    if msg.content and not isinstance(msg, HumanMessage):\n",
    "        # Print each token as it streams in\n",
    "        print(msg.content, end=\"|\", flush=True)\n",
    "\n",
    "    # Handle the AI message chunks for proper assembly\n",
    "    if isinstance(msg, AIMessageChunk):\n",
    "        if gathered is None:\n",
    "            gathered = msg\n",
    "        else:\n",
    "            gathered = gathered + msg\n"
   ]
  },
  {
   "cell_type": "code",
   "execution_count": 66,
   "metadata": {},
   "outputs": [
    {
     "name": "stdout",
     "output_type": "stream",
     "text": [
      "The weather in San Francisco is currently 32 degrees Celsius and sunny.\n"
     ]
    }
   ],
   "source": [
    "print(gathered.content)"
   ]
  }
 ],
 "metadata": {
  "kernelspec": {
   "display_name": ".venv",
   "language": "python",
   "name": "python3"
  },
  "language_info": {
   "codemirror_mode": {
    "name": "ipython",
    "version": 3
   },
   "file_extension": ".py",
   "mimetype": "text/x-python",
   "name": "python",
   "nbconvert_exporter": "python",
   "pygments_lexer": "ipython3",
   "version": "3.11.0"
  }
 },
 "nbformat": 4,
 "nbformat_minor": 2
}

{
 "cells": [
  {
   "cell_type": "code",
   "execution_count": 1,
   "metadata": {},
   "outputs": [
    {
     "data": {
      "text/plain": [
       "True"
      ]
     },
     "execution_count": 1,
     "metadata": {},
     "output_type": "execute_result"
    }
   ],
   "source": [
    "from dotenv import load_dotenv\n",
    "\n",
    "load_dotenv()"
   ]
  },
  {
   "cell_type": "code",
   "execution_count": 2,
   "metadata": {},
   "outputs": [],
   "source": [
    "from typing import Annotated\n",
    "\n",
    "from typing_extensions import TypedDict\n",
    "\n",
    "from langgraph.graph.message import add_messages\n",
    "\n",
    "\n",
    "class State(TypedDict):\n",
    "    messages: Annotated[list, add_messages]"
   ]
  },
  {
   "cell_type": "code",
   "execution_count": 3,
   "metadata": {},
   "outputs": [],
   "source": [
    "from langchain_community.tools.tavily_search import TavilySearchResults\n",
    "from langchain_openai import ChatOpenAI\n",
    "from typing_extensions import TypedDict\n",
    "\n",
    "from langgraph.checkpoint.memory import MemorySaver\n",
    "from langgraph.graph import StateGraph\n",
    "from langgraph.graph.message import add_messages\n",
    "from langgraph.prebuilt import ToolNode, tools_condition\n",
    "\n",
    "checkpointer = MemorySaver()\n",
    "\n",
    "\n",
    "class State(TypedDict):\n",
    "    messages: Annotated[list, add_messages]\n",
    "\n",
    "\n",
    "graph_builder = StateGraph(State)\n",
    "\n",
    "tool = TavilySearchResults(max_results=2)\n",
    "tools = [tool]\n",
    "llm = ChatOpenAI()\n",
    "llm_with_tools = llm.bind_tools(tools)\n",
    "\n",
    "\n",
    "def chatbot(state: State):\n",
    "    return {\"messages\": [llm_with_tools.invoke(state[\"messages\"])]}"
   ]
  },
  {
   "cell_type": "code",
   "execution_count": 4,
   "metadata": {},
   "outputs": [
    {
     "data": {
      "text/plain": [
       "<langgraph.graph.state.StateGraph at 0x1b918413350>"
      ]
     },
     "execution_count": 4,
     "metadata": {},
     "output_type": "execute_result"
    }
   ],
   "source": [
    "graph_builder.add_node(\"chatbot\", chatbot)\n",
    "\n",
    "tool_node = ToolNode(tools=[tool])\n",
    "graph_builder.add_node(\"tools\", tool_node)\n",
    "\n",
    "graph_builder.add_conditional_edges(\n",
    "    \"chatbot\",\n",
    "    tools_condition,\n",
    ")\n",
    "graph_builder.add_edge(\"tools\", \"chatbot\")\n",
    "graph_builder.set_entry_point(\"chatbot\")"
   ]
  },
  {
   "cell_type": "code",
   "execution_count": 5,
   "metadata": {},
   "outputs": [],
   "source": [
    "graph = graph_builder.compile(\n",
    "    checkpointer=checkpointer,\n",
    "    interrupt_before=[\"tools\"],\n",
    ")"
   ]
  },
  {
   "cell_type": "code",
   "execution_count": 6,
   "metadata": {},
   "outputs": [
    {
     "data": {
      "image/jpeg": "[encoded data removed]",
      "text/plain": [
       "<IPython.core.display.Image object>"
      ]
     },
     "metadata": {},
     "output_type": "display_data"
    }
   ],
   "source": [
    "from IPython.display import Image, display\n",
    "\n",
    "try:\n",
    "    display(Image(graph.get_graph().draw_mermaid_png()))\n",
    "except Exception:\n",
    "    pass"
   ]
  },
  {
   "cell_type": "code",
   "execution_count": 7,
   "metadata": {},
   "outputs": [
    {
     "data": {
      "text/plain": [
       "{'messages': [HumanMessage(content='Hello, I am John', additional_kwargs={}, response_metadata={}, id='1fe1afb2-0344-4a3b-a8ba-4465bff54912'),\n",
       "  AIMessage(content='Hello John! How can I assist you today?', additional_kwargs={'refusal': None}, response_metadata={'token_usage': {'completion_tokens': 11, 'prompt_tokens': 86, 'total_tokens': 97, 'completion_tokens_details': {'audio_tokens': None, 'reasoning_tokens': 0}, 'prompt_tokens_details': {'audio_tokens': None, 'cached_tokens': 0}}, 'model_name': 'gpt-3.5-turbo-0125', 'system_fingerprint': None, 'finish_reason': 'stop', 'logprobs': None}, id='run-21c0c07f-c852-45a4-af03-dbe2e5e3b158-0', usage_metadata={'input_tokens': 86, 'output_tokens': 11, 'total_tokens': 97, 'input_token_details': {'cache_read': 0}, 'output_token_details': {'reasoning': 0}})]}"
      ]
     },
     "execution_count": 7,
     "metadata": {},
     "output_type": "execute_result"
    }
   ],
   "source": [
    "from langchain_core.messages import HumanMessage\n",
    "\n",
    "config = {\"configurable\": {\"thread_id\": \"1\"}}\n",
    "input_message = HumanMessage(content=\"Hello, I am John\")\n",
    "\n",
    "graph.invoke({\"messages\": input_message}, config=config)"
   ]
  },
  {
   "cell_type": "code",
   "execution_count": 8,
   "metadata": {},
   "outputs": [
    {
     "data": {
      "text/plain": [
       "{'messages': [HumanMessage(content='Sorry, did I already introduce myself?', additional_kwargs={}, response_metadata={}, id='8615f259-1155-4c21-b876-80e5f6bda3cb'),\n",
       "  AIMessage(content=\"No, you haven't introduced yourself yet. Feel free to share a bit about yourself if you'd like!\", additional_kwargs={'refusal': None}, response_metadata={'token_usage': {'completion_tokens': 23, 'prompt_tokens': 89, 'total_tokens': 112, 'completion_tokens_details': {'audio_tokens': None, 'reasoning_tokens': 0}, 'prompt_tokens_details': {'audio_tokens': None, 'cached_tokens': 0}}, 'model_name': 'gpt-3.5-turbo-0125', 'system_fingerprint': None, 'finish_reason': 'stop', 'logprobs': None}, id='run-3cdb77e4-04b7-495d-ad09-20134ef0f628-0', usage_metadata={'input_tokens': 89, 'output_tokens': 23, 'total_tokens': 112, 'input_token_details': {'cache_read': 0}, 'output_token_details': {'reasoning': 0}})]}"
      ]
     },
     "execution_count": 8,
     "metadata": {},
     "output_type": "execute_result"
    }
   ],
   "source": [
    "config = {\"configurable\": {\"thread_id\": \"100\"}}\n",
    "input_message = HumanMessage(content=\"Sorry, did I already introduce myself?\")\n",
    "\n",
    "graph.invoke({\"messages\": input_message}, config=config)"
   ]
  },
  {
   "cell_type": "code",
   "execution_count": 9,
   "metadata": {},
   "outputs": [
    {
     "data": {
      "text/plain": [
       "{'messages': [HumanMessage(content='Hello, I am John', additional_kwargs={}, response_metadata={}, id='1fe1afb2-0344-4a3b-a8ba-4465bff54912'),\n",
       "  AIMessage(content='Hello John! How can I assist you today?', additional_kwargs={'refusal': None}, response_metadata={'token_usage': {'completion_tokens': 11, 'prompt_tokens': 86, 'total_tokens': 97, 'completion_tokens_details': {'audio_tokens': None, 'reasoning_tokens': 0}, 'prompt_tokens_details': {'audio_tokens': None, 'cached_tokens': 0}}, 'model_name': 'gpt-3.5-turbo-0125', 'system_fingerprint': None, 'finish_reason': 'stop', 'logprobs': None}, id='run-21c0c07f-c852-45a4-af03-dbe2e5e3b158-0', usage_metadata={'input_tokens': 86, 'output_tokens': 11, 'total_tokens': 97, 'input_token_details': {'cache_read': 0}, 'output_token_details': {'reasoning': 0}}),\n",
       "  HumanMessage(content='Sorry, did I already introduce myself?', additional_kwargs={}, response_metadata={}, id='b02f6e3d-8f01-4152-8c44-fb45b5a144d7'),\n",
       "  AIMessage(content='Yes, you mentioned your name as John when you first greeted me. How can I help you further, John?', additional_kwargs={'refusal': None}, response_metadata={'token_usage': {'completion_tokens': 24, 'prompt_tokens': 112, 'total_tokens': 136, 'completion_tokens_details': {'audio_tokens': None, 'reasoning_tokens': 0}, 'prompt_tokens_details': {'audio_tokens': None, 'cached_tokens': 0}}, 'model_name': 'gpt-3.5-turbo-0125', 'system_fingerprint': None, 'finish_reason': 'stop', 'logprobs': None}, id='run-1d345e39-c4b8-4ee8-bc72-eb7e7fea05d2-0', usage_metadata={'input_tokens': 112, 'output_tokens': 24, 'total_tokens': 136, 'input_token_details': {'cache_read': 0}, 'output_token_details': {'reasoning': 0}})]}"
      ]
     },
     "execution_count": 9,
     "metadata": {},
     "output_type": "execute_result"
    }
   ],
   "source": [
    "config = {\"configurable\": {\"thread_id\": \"1\"}}\n",
    "input_message = HumanMessage(content=\"Sorry, did I already introduce myself?\")\n",
    "\n",
    "graph.invoke({\"messages\": input_message}, config=config)"
   ]
  },
  {
   "cell_type": "code",
   "execution_count": 10,
   "metadata": {},
   "outputs": [
    {
     "data": {
      "text/plain": [
       "()"
      ]
     },
     "execution_count": 10,
     "metadata": {},
     "output_type": "execute_result"
    }
   ],
   "source": [
    "snapshot = graph.get_state(config)\n",
    "snapshot.next"
   ]
  },
  {
   "cell_type": "code",
   "execution_count": 11,
   "metadata": {},
   "outputs": [
    {
     "data": {
      "text/plain": [
       "{'messages': [HumanMessage(content='Hello, I am John', additional_kwargs={}, response_metadata={}, id='1fe1afb2-0344-4a3b-a8ba-4465bff54912'),\n",
       "  AIMessage(content='Hello John! How can I assist you today?', additional_kwargs={'refusal': None}, response_metadata={'token_usage': {'completion_tokens': 11, 'prompt_tokens': 86, 'total_tokens': 97, 'completion_tokens_details': {'audio_tokens': None, 'reasoning_tokens': 0}, 'prompt_tokens_details': {'audio_tokens': None, 'cached_tokens': 0}}, 'model_name': 'gpt-3.5-turbo-0125', 'system_fingerprint': None, 'finish_reason': 'stop', 'logprobs': None}, id='run-21c0c07f-c852-45a4-af03-dbe2e5e3b158-0', usage_metadata={'input_tokens': 86, 'output_tokens': 11, 'total_tokens': 97, 'input_token_details': {'cache_read': 0}, 'output_token_details': {'reasoning': 0}}),\n",
       "  HumanMessage(content='Sorry, did I already introduce myself?', additional_kwargs={}, response_metadata={}, id='b02f6e3d-8f01-4152-8c44-fb45b5a144d7'),\n",
       "  AIMessage(content='Yes, you mentioned your name as John when you first greeted me. How can I help you further, John?', additional_kwargs={'refusal': None}, response_metadata={'token_usage': {'completion_tokens': 24, 'prompt_tokens': 112, 'total_tokens': 136, 'completion_tokens_details': {'audio_tokens': None, 'reasoning_tokens': 0}, 'prompt_tokens_details': {'audio_tokens': None, 'cached_tokens': 0}}, 'model_name': 'gpt-3.5-turbo-0125', 'system_fingerprint': None, 'finish_reason': 'stop', 'logprobs': None}, id='run-1d345e39-c4b8-4ee8-bc72-eb7e7fea05d2-0', usage_metadata={'input_tokens': 112, 'output_tokens': 24, 'total_tokens': 136, 'input_token_details': {'cache_read': 0}, 'output_token_details': {'reasoning': 0}}),\n",
       "  HumanMessage(content='How is the weather in Los Angeles?', additional_kwargs={}, response_metadata={}, id='96a46cca-6710-4ed3-a080-791c7f9ed4fc'),\n",
       "  AIMessage(content='', additional_kwargs={'tool_calls': [{'id': 'call_ZHOeesyCJWdjTgmcAHC2fEtS', 'function': {'arguments': '{\"query\":\"weather in Los Angeles\"}', 'name': 'tavily_search_results_json'}, 'type': 'function'}], 'refusal': None}, response_metadata={'token_usage': {'completion_tokens': 21, 'prompt_tokens': 151, 'total_tokens': 172, 'completion_tokens_details': {'audio_tokens': None, 'reasoning_tokens': 0}, 'prompt_tokens_details': {'audio_tokens': None, 'cached_tokens': 0}}, 'model_name': 'gpt-3.5-turbo-0125', 'system_fingerprint': None, 'finish_reason': 'tool_calls', 'logprobs': None}, id='run-802a7389-999e-48cb-8705-2798f3e01d61-0', tool_calls=[{'name': 'tavily_search_results_json', 'args': {'query': 'weather in Los Angeles'}, 'id': 'call_ZHOeesyCJWdjTgmcAHC2fEtS', 'type': 'tool_call'}], usage_metadata={'input_tokens': 151, 'output_tokens': 21, 'total_tokens': 172, 'input_token_details': {'cache_read': 0}, 'output_token_details': {'reasoning': 0}})]}"
      ]
     },
     "execution_count": 11,
     "metadata": {},
     "output_type": "execute_result"
    }
   ],
   "source": [
    "from langchain_core.messages import HumanMessage\n",
    "\n",
    "config = {\"configurable\": {\"thread_id\": \"1\"}}\n",
    "input_message = HumanMessage(content=\"How is the weather in Los Angeles?\")\n",
    "\n",
    "graph.invoke({\"messages\": input_message}, config=config)"
   ]
  },
  {
   "cell_type": "code",
   "execution_count": 12,
   "metadata": {},
   "outputs": [
    {
     "data": {
      "text/plain": [
       "('tools',)"
      ]
     },
     "execution_count": 12,
     "metadata": {},
     "output_type": "execute_result"
    }
   ],
   "source": [
    "snapshot = graph.get_state(config)\n",
    "snapshot.next"
   ]
  },
  {
   "cell_type": "code",
   "execution_count": 13,
   "metadata": {},
   "outputs": [
    {
     "data": {
      "text/plain": [
       "{'messages': [HumanMessage(content='Hello, I am John', additional_kwargs={}, response_metadata={}, id='1fe1afb2-0344-4a3b-a8ba-4465bff54912'),\n",
       "  AIMessage(content='Hello John! How can I assist you today?', additional_kwargs={'refusal': None}, response_metadata={'token_usage': {'completion_tokens': 11, 'prompt_tokens': 86, 'total_tokens': 97, 'completion_tokens_details': {'audio_tokens': None, 'reasoning_tokens': 0}, 'prompt_tokens_details': {'audio_tokens': None, 'cached_tokens': 0}}, 'model_name': 'gpt-3.5-turbo-0125', 'system_fingerprint': None, 'finish_reason': 'stop', 'logprobs': None}, id='run-21c0c07f-c852-45a4-af03-dbe2e5e3b158-0', usage_metadata={'input_tokens': 86, 'output_tokens': 11, 'total_tokens': 97, 'input_token_details': {'cache_read': 0}, 'output_token_details': {'reasoning': 0}}),\n",
       "  HumanMessage(content='Sorry, did I already introduce myself?', additional_kwargs={}, response_metadata={}, id='b02f6e3d-8f01-4152-8c44-fb45b5a144d7'),\n",
       "  AIMessage(content='Yes, you mentioned your name as John when you first greeted me. How can I help you further, John?', additional_kwargs={'refusal': None}, response_metadata={'token_usage': {'completion_tokens': 24, 'prompt_tokens': 112, 'total_tokens': 136, 'completion_tokens_details': {'audio_tokens': None, 'reasoning_tokens': 0}, 'prompt_tokens_details': {'audio_tokens': None, 'cached_tokens': 0}}, 'model_name': 'gpt-3.5-turbo-0125', 'system_fingerprint': None, 'finish_reason': 'stop', 'logprobs': None}, id='run-1d345e39-c4b8-4ee8-bc72-eb7e7fea05d2-0', usage_metadata={'input_tokens': 112, 'output_tokens': 24, 'total_tokens': 136, 'input_token_details': {'cache_read': 0}, 'output_token_details': {'reasoning': 0}}),\n",
       "  HumanMessage(content='How is the weather in Los Angeles?', additional_kwargs={}, response_metadata={}, id='96a46cca-6710-4ed3-a080-791c7f9ed4fc'),\n",
       "  AIMessage(content='', additional_kwargs={'tool_calls': [{'id': 'call_ZHOeesyCJWdjTgmcAHC2fEtS', 'function': {'arguments': '{\"query\":\"weather in Los Angeles\"}', 'name': 'tavily_search_results_json'}, 'type': 'function'}], 'refusal': None}, response_metadata={'token_usage': {'completion_tokens': 21, 'prompt_tokens': 151, 'total_tokens': 172, 'completion_tokens_details': {'audio_tokens': None, 'reasoning_tokens': 0}, 'prompt_tokens_details': {'audio_tokens': None, 'cached_tokens': 0}}, 'model_name': 'gpt-3.5-turbo-0125', 'system_fingerprint': None, 'finish_reason': 'tool_calls', 'logprobs': None}, id='run-802a7389-999e-48cb-8705-2798f3e01d61-0', tool_calls=[{'name': 'tavily_search_results_json', 'args': {'query': 'weather in Los Angeles'}, 'id': 'call_ZHOeesyCJWdjTgmcAHC2fEtS', 'type': 'tool_call'}], usage_metadata={'input_tokens': 151, 'output_tokens': 21, 'total_tokens': 172, 'input_token_details': {'cache_read': 0}, 'output_token_details': {'reasoning': 0}}),\n",
       "  ToolMessage(content='[{\"url\": \"https://www.weatherapi.com/\", \"content\": \"{\\'location\\': {\\'name\\': \\'Los Angeles\\', \\'region\\': \\'California\\', \\'country\\': \\'United States of America\\', \\'lat\\': 34.0522, \\'lon\\': -118.2428, \\'tz_id\\': \\'America/Los_Angeles\\', \\'localtime_epoch\\': 1729622978, \\'localtime\\': \\'2024-10-22 11:49\\'}, \\'current\\': {\\'last_updated_epoch\\': 1729622700, \\'last_updated\\': \\'2024-10-22 11:45\\', \\'temp_c\\': 26.2, \\'temp_f\\': 79.2, \\'is_day\\': 1, \\'condition\\': {\\'text\\': \\'Sunny\\', \\'icon\\': \\'//cdn.weatherapi.com/weather/64x64/day/113.png\\', \\'code\\': 1000}, \\'wind_mph\\': 2.7, \\'wind_kph\\': 4.3, \\'wind_degree\\': 218, \\'wind_dir\\': \\'SW\\', \\'pressure_mb\\': 1018.0, \\'pressure_in\\': 30.05, \\'precip_mm\\': 0.0, \\'precip_in\\': 0.0, \\'humidity\\': 28, \\'cloud\\': 0, \\'feelslike_c\\': 25.2, \\'feelslike_f\\': 77.4, \\'windchill_c\\': 27.6, \\'windchill_f\\': 81.7, \\'heatindex_c\\': 26.5, \\'heatindex_f\\': 79.8, \\'dewpoint_c\\': 7.4, \\'dewpoint_f\\': 45.4, \\'vis_km\\': 16.0, \\'vis_miles\\': 9.0, \\'uv\\': 3.4, \\'gust_mph\\': 3.1, \\'gust_kph\\': 5.0}}\"}, {\"url\": \"https://www.easeweather.com/north-america/united-states/california/los-angeles-county/los-angeles/october\", \"content\": \"Until now, October 2024 in Los Angeles is slightly cooler than the historical average by -1.2 ° F.. The forecast for the next days in Los Angeles predicts temperatures to be around 25 ° F, close to the historical average.. In general, the average temperature in Los Angeles at the beginning of October is 28.7 ° F.As the month progressed, temperatures tended to significantly cool down\"}]', name='tavily_search_results_json', id='0048c699-65f2-408d-b3d5-24bb5d1011e8', tool_call_id='call_ZHOeesyCJWdjTgmcAHC2fEtS', artifact={'query': 'weather in Los Angeles', 'follow_up_questions': None, 'answer': None, 'images': [], 'results': [{'title': 'Weather in Los Angeles', 'url': 'https://www.weatherapi.com/', 'content': \"{'location': {'name': 'Los Angeles', 'region': 'California', 'country': 'United States of America', 'lat': 34.0522, 'lon': -118.2428, 'tz_id': 'America/Los_Angeles', 'localtime_epoch': 1729622978, 'localtime': '2024-10-22 11:49'}, 'current': {'last_updated_epoch': 1729622700, 'last_updated': '2024-10-22 11:45', 'temp_c': 26.2, 'temp_f': 79.2, 'is_day': 1, 'condition': {'text': 'Sunny', 'icon': '//cdn.weatherapi.com/weather/64x64/day/113.png', 'code': 1000}, 'wind_mph': 2.7, 'wind_kph': 4.3, 'wind_degree': 218, 'wind_dir': 'SW', 'pressure_mb': 1018.0, 'pressure_in': 30.05, 'precip_mm': 0.0, 'precip_in': 0.0, 'humidity': 28, 'cloud': 0, 'feelslike_c': 25.2, 'feelslike_f': 77.4, 'windchill_c': 27.6, 'windchill_f': 81.7, 'heatindex_c': 26.5, 'heatindex_f': 79.8, 'dewpoint_c': 7.4, 'dewpoint_f': 45.4, 'vis_km': 16.0, 'vis_miles': 9.0, 'uv': 3.4, 'gust_mph': 3.1, 'gust_kph': 5.0}}\", 'score': 0.9954716, 'raw_content': None}, {'title': 'Weather in Los Angeles in October 2024 - Detailed Forecast', 'url': 'https://www.easeweather.com/north-america/united-states/california/los-angeles-county/los-angeles/october', 'content': 'Until now, October 2024 in Los Angeles is slightly cooler than the historical average by -1.2 ° F.. The forecast for the next days in Los Angeles predicts temperatures to be around 25 ° F, close to the historical average.. In general, the average temperature in Los Angeles at the beginning of October is 28.7 ° F.As the month progressed, temperatures tended to significantly cool down', 'score': 0.98555213, 'raw_content': None}], 'response_time': 3.24}),\n",
       "  AIMessage(content='The current weather in Los Angeles is as follows:\\n- Temperature: 26.2°C (79.2°F)\\n- Condition: Sunny\\n- Wind: 4.3 km/h from the southwest\\n- Humidity: 28%\\n- Feels like: 25.2°C (77.4°F)\\n- UV Index: 3.4\\n\\nIf you need more detailed information or a forecast, feel free to ask!', additional_kwargs={'refusal': None}, response_metadata={'token_usage': {'completion_tokens': 90, 'prompt_tokens': 718, 'total_tokens': 808, 'completion_tokens_details': {'audio_tokens': None, 'reasoning_tokens': 0}, 'prompt_tokens_details': {'audio_tokens': None, 'cached_tokens': 0}}, 'model_name': 'gpt-3.5-turbo-0125', 'system_fingerprint': None, 'finish_reason': 'stop', 'logprobs': None}, id='run-901cb70f-6c2f-4834-866c-ae9ef4894c74-0', usage_metadata={'input_tokens': 718, 'output_tokens': 90, 'total_tokens': 808, 'input_token_details': {'cache_read': 0}, 'output_token_details': {'reasoning': 0}})]}"
      ]
     },
     "execution_count": 13,
     "metadata": {},
     "output_type": "execute_result"
    }
   ],
   "source": [
    "graph.invoke(None, config=config)"
   ]
  },
  {
   "cell_type": "markdown",
   "metadata": {},
   "source": [
    "### Timetravel"
   ]
  },
  {
   "cell_type": "code",
   "execution_count": 14,
   "metadata": {},
   "outputs": [
    {
     "data": {
      "text/plain": [
       "{'messages': [HumanMessage(content='How is the weather in Los Angeles?', additional_kwargs={}, response_metadata={}, id='0bacec07-b5a1-43ee-a65f-fb2ad609876e'),\n",
       "  AIMessage(content='', additional_kwargs={'tool_calls': [{'id': 'call_vdaIQ9niw8mn17fIM2vXJba3', 'function': {'arguments': '{\"query\":\"weather in Los Angeles\"}', 'name': 'tavily_search_results_json'}, 'type': 'function'}], 'refusal': None}, response_metadata={'token_usage': {'completion_tokens': 21, 'prompt_tokens': 89, 'total_tokens': 110, 'completion_tokens_details': {'audio_tokens': None, 'reasoning_tokens': 0}, 'prompt_tokens_details': {'audio_tokens': None, 'cached_tokens': 0}}, 'model_name': 'gpt-3.5-turbo-0125', 'system_fingerprint': None, 'finish_reason': 'tool_calls', 'logprobs': None}, id='run-d5f3dd16-8a4e-45ee-877c-1191e84e246e-0', tool_calls=[{'name': 'tavily_search_results_json', 'args': {'query': 'weather in Los Angeles'}, 'id': 'call_vdaIQ9niw8mn17fIM2vXJba3', 'type': 'tool_call'}], usage_metadata={'input_tokens': 89, 'output_tokens': 21, 'total_tokens': 110, 'input_token_details': {'cache_read': 0}, 'output_token_details': {'reasoning': 0}})]}"
      ]
     },
     "execution_count": 14,
     "metadata": {},
     "output_type": "execute_result"
    }
   ],
   "source": [
    "from langchain_core.messages import HumanMessage\n",
    "\n",
    "config = {\"configurable\": {\"thread_id\": \"2\"}}\n",
    "input_message = HumanMessage(content=\"How is the weather in Los Angeles?\")\n",
    "\n",
    "graph.invoke({\"messages\": input_message}, config=config)"
   ]
  },
  {
   "cell_type": "code",
   "execution_count": 15,
   "metadata": {},
   "outputs": [
    {
     "name": "stdout",
     "output_type": "stream",
     "text": [
      "==================================\u001b[1m Ai Message \u001b[0m==================================\n",
      "Tool Calls:\n",
      "  tavily_search_results_json (call_vdaIQ9niw8mn17fIM2vXJba3)\n",
      " Call ID: call_vdaIQ9niw8mn17fIM2vXJba3\n",
      "  Args:\n",
      "    query: weather in Los Angeles\n"
     ]
    }
   ],
   "source": [
    "snapshot = graph.get_state(config)\n",
    "existing_message = snapshot.values[\"messages\"][-1]\n",
    "existing_message.pretty_print()"
   ]
  },
  {
   "cell_type": "code",
   "execution_count": 16,
   "metadata": {},
   "outputs": [
    {
     "data": {
      "text/plain": [
       "{'configurable': {'thread_id': '2',\n",
       "  'checkpoint_ns': '',\n",
       "  'checkpoint_id': '1ef90a6d-1711-69bb-8002-6b641cd3a8ae'}}"
      ]
     },
     "execution_count": 16,
     "metadata": {},
     "output_type": "execute_result"
    }
   ],
   "source": [
    "from langchain_core.messages import AIMessage, ToolMessage\n",
    "\n",
    "answer = \"It is only 5°C warm today!\"\n",
    "new_messages = [\n",
    "    ToolMessage(content=answer, tool_call_id=existing_message.tool_calls[0][\"id\"]),\n",
    "    AIMessage(content=answer),\n",
    "]\n",
    "graph.update_state(\n",
    "    config,\n",
    "    {\"messages\": new_messages},\n",
    ")"
   ]
  },
  {
   "cell_type": "code",
   "execution_count": 20,
   "metadata": {},
   "outputs": [
    {
     "name": "stdout",
     "output_type": "stream",
     "text": [
      "[HumanMessage(content='How is the weather in Los Angeles?', additional_kwargs={}, response_metadata={}, id='0bacec07-b5a1-43ee-a65f-fb2ad609876e'), AIMessage(content='', additional_kwargs={'tool_calls': [{'id': 'call_vdaIQ9niw8mn17fIM2vXJba3', 'function': {'arguments': '{\"query\":\"weather in Los Angeles\"}', 'name': 'tavily_search_results_json'}, 'type': 'function'}], 'refusal': None}, response_metadata={'token_usage': {'completion_tokens': 21, 'prompt_tokens': 89, 'total_tokens': 110, 'completion_tokens_details': {'audio_tokens': None, 'reasoning_tokens': 0}, 'prompt_tokens_details': {'audio_tokens': None, 'cached_tokens': 0}}, 'model_name': 'gpt-3.5-turbo-0125', 'system_fingerprint': None, 'finish_reason': 'tool_calls', 'logprobs': None}, id='run-d5f3dd16-8a4e-45ee-877c-1191e84e246e-0', tool_calls=[{'name': 'tavily_search_results_json', 'args': {'query': 'weather in Los Angeles'}, 'id': 'call_vdaIQ9niw8mn17fIM2vXJba3', 'type': 'tool_call'}], usage_metadata={'input_tokens': 89, 'output_tokens': 21, 'total_tokens': 110, 'input_token_details': {'cache_read': 0}, 'output_token_details': {'reasoning': 0}}), ToolMessage(content='It is only 5°C warm today!', id='5e060a30-c5bb-46b5-abbb-3e81774f4c91', tool_call_id='call_vdaIQ9niw8mn17fIM2vXJba3'), AIMessage(content='It is only 5°C warm today!', additional_kwargs={}, response_metadata={}, id='66c8defe-1c1b-4e54-bd16-1cf339dff783'), HumanMessage(content='How warm was it again?', additional_kwargs={}, response_metadata={}, id='641f2062-e566-4385-9cf3-aadefa0c0098'), AIMessage(content='The temperature in Los Angeles is 5°C today.', additional_kwargs={'refusal': None}, response_metadata={'token_usage': {'completion_tokens': 12, 'prompt_tokens': 154, 'total_tokens': 166, 'completion_tokens_details': {'audio_tokens': None, 'reasoning_tokens': 0}, 'prompt_tokens_details': {'audio_tokens': None, 'cached_tokens': 0}}, 'model_name': 'gpt-3.5-turbo-0125', 'system_fingerprint': None, 'finish_reason': 'stop', 'logprobs': None}, id='run-23eef68a-8486-4d15-a459-eb2199062f7c-0', usage_metadata={'input_tokens': 154, 'output_tokens': 12, 'total_tokens': 166, 'input_token_details': {'cache_read': 0}, 'output_token_details': {'reasoning': 0}})]\n"
     ]
    }
   ],
   "source": [
    "print((graph.get_state(config).values[\"messages\"]))"
   ]
  },
  {
   "cell_type": "code",
   "execution_count": 18,
   "metadata": {},
   "outputs": [
    {
     "data": {
      "text/plain": [
       "{'messages': [HumanMessage(content='How is the weather in Los Angeles?', additional_kwargs={}, response_metadata={}, id='0bacec07-b5a1-43ee-a65f-fb2ad609876e'),\n",
       "  AIMessage(content='', additional_kwargs={'tool_calls': [{'id': 'call_vdaIQ9niw8mn17fIM2vXJba3', 'function': {'arguments': '{\"query\":\"weather in Los Angeles\"}', 'name': 'tavily_search_results_json'}, 'type': 'function'}], 'refusal': None}, response_metadata={'token_usage': {'completion_tokens': 21, 'prompt_tokens': 89, 'total_tokens': 110, 'completion_tokens_details': {'audio_tokens': None, 'reasoning_tokens': 0}, 'prompt_tokens_details': {'audio_tokens': None, 'cached_tokens': 0}}, 'model_name': 'gpt-3.5-turbo-0125', 'system_fingerprint': None, 'finish_reason': 'tool_calls', 'logprobs': None}, id='run-d5f3dd16-8a4e-45ee-877c-1191e84e246e-0', tool_calls=[{'name': 'tavily_search_results_json', 'args': {'query': 'weather in Los Angeles'}, 'id': 'call_vdaIQ9niw8mn17fIM2vXJba3', 'type': 'tool_call'}], usage_metadata={'input_tokens': 89, 'output_tokens': 21, 'total_tokens': 110, 'input_token_details': {'cache_read': 0}, 'output_token_details': {'reasoning': 0}}),\n",
       "  ToolMessage(content='It is only 5°C warm today!', id='5e060a30-c5bb-46b5-abbb-3e81774f4c91', tool_call_id='call_vdaIQ9niw8mn17fIM2vXJba3'),\n",
       "  AIMessage(content='It is only 5°C warm today!', additional_kwargs={}, response_metadata={}, id='66c8defe-1c1b-4e54-bd16-1cf339dff783'),\n",
       "  HumanMessage(content='How warm was it again?', additional_kwargs={}, response_metadata={}, id='641f2062-e566-4385-9cf3-aadefa0c0098'),\n",
       "  AIMessage(content='The temperature in Los Angeles is 5°C today.', additional_kwargs={'refusal': None}, response_metadata={'token_usage': {'completion_tokens': 12, 'prompt_tokens': 154, 'total_tokens': 166, 'completion_tokens_details': {'audio_tokens': None, 'reasoning_tokens': 0}, 'prompt_tokens_details': {'audio_tokens': None, 'cached_tokens': 0}}, 'model_name': 'gpt-3.5-turbo-0125', 'system_fingerprint': None, 'finish_reason': 'stop', 'logprobs': None}, id='run-23eef68a-8486-4d15-a459-eb2199062f7c-0', usage_metadata={'input_tokens': 154, 'output_tokens': 12, 'total_tokens': 166, 'input_token_details': {'cache_read': 0}, 'output_token_details': {'reasoning': 0}})]}"
      ]
     },
     "execution_count": 18,
     "metadata": {},
     "output_type": "execute_result"
    }
   ],
   "source": [
    "config = {\"configurable\": {\"thread_id\": \"2\"}}\n",
    "input_message = HumanMessage(content=\"How warm was it again?\")\n",
    "\n",
    "graph.invoke({\"messages\": input_message}, config=config)"
   ]
  },
  {
   "cell_type": "markdown",
   "metadata": {},
   "source": [
    "### Replay"
   ]
  },
  {
   "cell_type": "code",
   "execution_count": 22,
   "metadata": {},
   "outputs": [
    {
     "data": {
      "text/plain": [
       "[StateSnapshot(values={'messages': [HumanMessage(content='How is the weather in Los Angeles?', additional_kwargs={}, response_metadata={}, id='0bacec07-b5a1-43ee-a65f-fb2ad609876e'), AIMessage(content='', additional_kwargs={'tool_calls': [{'id': 'call_vdaIQ9niw8mn17fIM2vXJba3', 'function': {'arguments': '{\"query\":\"weather in Los Angeles\"}', 'name': 'tavily_search_results_json'}, 'type': 'function'}], 'refusal': None}, response_metadata={'token_usage': {'completion_tokens': 21, 'prompt_tokens': 89, 'total_tokens': 110, 'completion_tokens_details': {'audio_tokens': None, 'reasoning_tokens': 0}, 'prompt_tokens_details': {'audio_tokens': None, 'cached_tokens': 0}}, 'model_name': 'gpt-3.5-turbo-0125', 'system_fingerprint': None, 'finish_reason': 'tool_calls', 'logprobs': None}, id='run-d5f3dd16-8a4e-45ee-877c-1191e84e246e-0', tool_calls=[{'name': 'tavily_search_results_json', 'args': {'query': 'weather in Los Angeles'}, 'id': 'call_vdaIQ9niw8mn17fIM2vXJba3', 'type': 'tool_call'}], usage_metadata={'input_tokens': 89, 'output_tokens': 21, 'total_tokens': 110, 'input_token_details': {'cache_read': 0}, 'output_token_details': {'reasoning': 0}}), ToolMessage(content='It is only 5°C warm today!', id='5e060a30-c5bb-46b5-abbb-3e81774f4c91', tool_call_id='call_vdaIQ9niw8mn17fIM2vXJba3'), AIMessage(content='It is only 5°C warm today!', additional_kwargs={}, response_metadata={}, id='66c8defe-1c1b-4e54-bd16-1cf339dff783'), HumanMessage(content='How warm was it again?', additional_kwargs={}, response_metadata={}, id='641f2062-e566-4385-9cf3-aadefa0c0098'), AIMessage(content='The temperature in Los Angeles is 5°C today.', additional_kwargs={'refusal': None}, response_metadata={'token_usage': {'completion_tokens': 12, 'prompt_tokens': 154, 'total_tokens': 166, 'completion_tokens_details': {'audio_tokens': None, 'reasoning_tokens': 0}, 'prompt_tokens_details': {'audio_tokens': None, 'cached_tokens': 0}}, 'model_name': 'gpt-3.5-turbo-0125', 'system_fingerprint': None, 'finish_reason': 'stop', 'logprobs': None}, id='run-23eef68a-8486-4d15-a459-eb2199062f7c-0', usage_metadata={'input_tokens': 154, 'output_tokens': 12, 'total_tokens': 166, 'input_token_details': {'cache_read': 0}, 'output_token_details': {'reasoning': 0}})]}, next=(), config={'configurable': {'thread_id': '2', 'checkpoint_ns': '', 'checkpoint_id': '1ef90a6d-1c8b-6f05-8005-0e239c5ead77'}}, metadata={'source': 'loop', 'writes': {'chatbot': {'messages': [AIMessage(content='The temperature in Los Angeles is 5°C today.', additional_kwargs={'refusal': None}, response_metadata={'token_usage': {'completion_tokens': 12, 'prompt_tokens': 154, 'total_tokens': 166, 'completion_tokens_details': {'audio_tokens': None, 'reasoning_tokens': 0}, 'prompt_tokens_details': {'audio_tokens': None, 'cached_tokens': 0}}, 'model_name': 'gpt-3.5-turbo-0125', 'system_fingerprint': None, 'finish_reason': 'stop', 'logprobs': None}, id='run-23eef68a-8486-4d15-a459-eb2199062f7c-0', usage_metadata={'input_tokens': 154, 'output_tokens': 12, 'total_tokens': 166, 'input_token_details': {'cache_read': 0}, 'output_token_details': {'reasoning': 0}})]}}, 'step': 5, 'parents': {}}, created_at='2024-10-22T18:52:43.033984+00:00', parent_config={'configurable': {'thread_id': '2', 'checkpoint_ns': '', 'checkpoint_id': '1ef90a6d-174c-6962-8004-6b426de14024'}}, tasks=()),\n",
       " StateSnapshot(values={'messages': [HumanMessage(content='How is the weather in Los Angeles?', additional_kwargs={}, response_metadata={}, id='0bacec07-b5a1-43ee-a65f-fb2ad609876e'), AIMessage(content='', additional_kwargs={'tool_calls': [{'id': 'call_vdaIQ9niw8mn17fIM2vXJba3', 'function': {'arguments': '{\"query\":\"weather in Los Angeles\"}', 'name': 'tavily_search_results_json'}, 'type': 'function'}], 'refusal': None}, response_metadata={'token_usage': {'completion_tokens': 21, 'prompt_tokens': 89, 'total_tokens': 110, 'completion_tokens_details': {'audio_tokens': None, 'reasoning_tokens': 0}, 'prompt_tokens_details': {'audio_tokens': None, 'cached_tokens': 0}}, 'model_name': 'gpt-3.5-turbo-0125', 'system_fingerprint': None, 'finish_reason': 'tool_calls', 'logprobs': None}, id='run-d5f3dd16-8a4e-45ee-877c-1191e84e246e-0', tool_calls=[{'name': 'tavily_search_results_json', 'args': {'query': 'weather in Los Angeles'}, 'id': 'call_vdaIQ9niw8mn17fIM2vXJba3', 'type': 'tool_call'}], usage_metadata={'input_tokens': 89, 'output_tokens': 21, 'total_tokens': 110, 'input_token_details': {'cache_read': 0}, 'output_token_details': {'reasoning': 0}}), ToolMessage(content='It is only 5°C warm today!', id='5e060a30-c5bb-46b5-abbb-3e81774f4c91', tool_call_id='call_vdaIQ9niw8mn17fIM2vXJba3'), AIMessage(content='It is only 5°C warm today!', additional_kwargs={}, response_metadata={}, id='66c8defe-1c1b-4e54-bd16-1cf339dff783'), HumanMessage(content='How warm was it again?', additional_kwargs={}, response_metadata={}, id='641f2062-e566-4385-9cf3-aadefa0c0098')]}, next=('chatbot',), config={'configurable': {'thread_id': '2', 'checkpoint_ns': '', 'checkpoint_id': '1ef90a6d-174c-6962-8004-6b426de14024'}}, metadata={'source': 'loop', 'writes': None, 'step': 4, 'parents': {}}, created_at='2024-10-22T18:52:42.483747+00:00', parent_config={'configurable': {'thread_id': '2', 'checkpoint_ns': '', 'checkpoint_id': '1ef90a6d-174a-6244-8003-e859ecd0cb3a'}}, tasks=(PregelTask(id='77bae1da-0282-4026-5a08-db134b5cb884', name='chatbot', path=('__pregel_pull', 'chatbot'), error=None, interrupts=(), state=None),)),\n",
       " StateSnapshot(values={'messages': [HumanMessage(content='How is the weather in Los Angeles?', additional_kwargs={}, response_metadata={}, id='0bacec07-b5a1-43ee-a65f-fb2ad609876e'), AIMessage(content='', additional_kwargs={'tool_calls': [{'id': 'call_vdaIQ9niw8mn17fIM2vXJba3', 'function': {'arguments': '{\"query\":\"weather in Los Angeles\"}', 'name': 'tavily_search_results_json'}, 'type': 'function'}], 'refusal': None}, response_metadata={'token_usage': {'completion_tokens': 21, 'prompt_tokens': 89, 'total_tokens': 110, 'completion_tokens_details': {'audio_tokens': None, 'reasoning_tokens': 0}, 'prompt_tokens_details': {'audio_tokens': None, 'cached_tokens': 0}}, 'model_name': 'gpt-3.5-turbo-0125', 'system_fingerprint': None, 'finish_reason': 'tool_calls', 'logprobs': None}, id='run-d5f3dd16-8a4e-45ee-877c-1191e84e246e-0', tool_calls=[{'name': 'tavily_search_results_json', 'args': {'query': 'weather in Los Angeles'}, 'id': 'call_vdaIQ9niw8mn17fIM2vXJba3', 'type': 'tool_call'}], usage_metadata={'input_tokens': 89, 'output_tokens': 21, 'total_tokens': 110, 'input_token_details': {'cache_read': 0}, 'output_token_details': {'reasoning': 0}}), ToolMessage(content='It is only 5°C warm today!', id='5e060a30-c5bb-46b5-abbb-3e81774f4c91', tool_call_id='call_vdaIQ9niw8mn17fIM2vXJba3'), AIMessage(content='It is only 5°C warm today!', additional_kwargs={}, response_metadata={}, id='66c8defe-1c1b-4e54-bd16-1cf339dff783')]}, next=('__start__',), config={'configurable': {'thread_id': '2', 'checkpoint_ns': '', 'checkpoint_id': '1ef90a6d-174a-6244-8003-e859ecd0cb3a'}}, metadata={'source': 'input', 'writes': {'__start__': {'messages': HumanMessage(content='How warm was it again?', additional_kwargs={}, response_metadata={})}}, 'step': 3, 'parents': {}}, created_at='2024-10-22T18:52:42.482746+00:00', parent_config={'configurable': {'thread_id': '2', 'checkpoint_ns': '', 'checkpoint_id': '1ef90a6d-1711-69bb-8002-6b641cd3a8ae'}}, tasks=(PregelTask(id='9534e36e-035e-7541-6273-bff7ce56f530', name='__start__', path=('__pregel_pull', '__start__'), error=None, interrupts=(), state=None),)),\n",
       " StateSnapshot(values={'messages': [HumanMessage(content='How is the weather in Los Angeles?', additional_kwargs={}, response_metadata={}, id='0bacec07-b5a1-43ee-a65f-fb2ad609876e'), AIMessage(content='', additional_kwargs={'tool_calls': [{'id': 'call_vdaIQ9niw8mn17fIM2vXJba3', 'function': {'arguments': '{\"query\":\"weather in Los Angeles\"}', 'name': 'tavily_search_results_json'}, 'type': 'function'}], 'refusal': None}, response_metadata={'token_usage': {'completion_tokens': 21, 'prompt_tokens': 89, 'total_tokens': 110, 'completion_tokens_details': {'audio_tokens': None, 'reasoning_tokens': 0}, 'prompt_tokens_details': {'audio_tokens': None, 'cached_tokens': 0}}, 'model_name': 'gpt-3.5-turbo-0125', 'system_fingerprint': None, 'finish_reason': 'tool_calls', 'logprobs': None}, id='run-d5f3dd16-8a4e-45ee-877c-1191e84e246e-0', tool_calls=[{'name': 'tavily_search_results_json', 'args': {'query': 'weather in Los Angeles'}, 'id': 'call_vdaIQ9niw8mn17fIM2vXJba3', 'type': 'tool_call'}], usage_metadata={'input_tokens': 89, 'output_tokens': 21, 'total_tokens': 110, 'input_token_details': {'cache_read': 0}, 'output_token_details': {'reasoning': 0}}), ToolMessage(content='It is only 5°C warm today!', id='5e060a30-c5bb-46b5-abbb-3e81774f4c91', tool_call_id='call_vdaIQ9niw8mn17fIM2vXJba3'), AIMessage(content='It is only 5°C warm today!', additional_kwargs={}, response_metadata={}, id='66c8defe-1c1b-4e54-bd16-1cf339dff783')]}, next=(), config={'configurable': {'thread_id': '2', 'checkpoint_ns': '', 'checkpoint_id': '1ef90a6d-1711-69bb-8002-6b641cd3a8ae'}}, metadata={'source': 'update', 'step': 2, 'writes': {'chatbot': {'messages': [ToolMessage(content='It is only 5°C warm today!', id='5e060a30-c5bb-46b5-abbb-3e81774f4c91', tool_call_id='call_vdaIQ9niw8mn17fIM2vXJba3'), AIMessage(content='It is only 5°C warm today!', additional_kwargs={}, response_metadata={}, id='66c8defe-1c1b-4e54-bd16-1cf339dff783')]}}, 'parents': {}}, created_at='2024-10-22T18:52:42.459589+00:00', parent_config={'configurable': {'thread_id': '2', 'checkpoint_ns': '', 'checkpoint_id': '1ef90a6d-16cb-635f-8001-e22d1aa5cb50'}}, tasks=()),\n",
       " StateSnapshot(values={'messages': [HumanMessage(content='How is the weather in Los Angeles?', additional_kwargs={}, response_metadata={}, id='0bacec07-b5a1-43ee-a65f-fb2ad609876e'), AIMessage(content='', additional_kwargs={'tool_calls': [{'id': 'call_vdaIQ9niw8mn17fIM2vXJba3', 'function': {'arguments': '{\"query\":\"weather in Los Angeles\"}', 'name': 'tavily_search_results_json'}, 'type': 'function'}], 'refusal': None}, response_metadata={'token_usage': {'completion_tokens': 21, 'prompt_tokens': 89, 'total_tokens': 110, 'completion_tokens_details': {'audio_tokens': None, 'reasoning_tokens': 0}, 'prompt_tokens_details': {'audio_tokens': None, 'cached_tokens': 0}}, 'model_name': 'gpt-3.5-turbo-0125', 'system_fingerprint': None, 'finish_reason': 'tool_calls', 'logprobs': None}, id='run-d5f3dd16-8a4e-45ee-877c-1191e84e246e-0', tool_calls=[{'name': 'tavily_search_results_json', 'args': {'query': 'weather in Los Angeles'}, 'id': 'call_vdaIQ9niw8mn17fIM2vXJba3', 'type': 'tool_call'}], usage_metadata={'input_tokens': 89, 'output_tokens': 21, 'total_tokens': 110, 'input_token_details': {'cache_read': 0}, 'output_token_details': {'reasoning': 0}})]}, next=('tools',), config={'configurable': {'thread_id': '2', 'checkpoint_ns': '', 'checkpoint_id': '1ef90a6d-16cb-635f-8001-e22d1aa5cb50'}}, metadata={'source': 'loop', 'writes': {'chatbot': {'messages': [AIMessage(content='', additional_kwargs={'tool_calls': [{'id': 'call_vdaIQ9niw8mn17fIM2vXJba3', 'function': {'arguments': '{\"query\":\"weather in Los Angeles\"}', 'name': 'tavily_search_results_json'}, 'type': 'function'}], 'refusal': None}, response_metadata={'token_usage': {'completion_tokens': 21, 'prompt_tokens': 89, 'total_tokens': 110, 'completion_tokens_details': {'audio_tokens': None, 'reasoning_tokens': 0}, 'prompt_tokens_details': {'audio_tokens': None, 'cached_tokens': 0}}, 'model_name': 'gpt-3.5-turbo-0125', 'system_fingerprint': None, 'finish_reason': 'tool_calls', 'logprobs': None}, id='run-d5f3dd16-8a4e-45ee-877c-1191e84e246e-0', tool_calls=[{'name': 'tavily_search_results_json', 'args': {'query': 'weather in Los Angeles'}, 'id': 'call_vdaIQ9niw8mn17fIM2vXJba3', 'type': 'tool_call'}], usage_metadata={'input_tokens': 89, 'output_tokens': 21, 'total_tokens': 110, 'input_token_details': {'cache_read': 0}, 'output_token_details': {'reasoning': 0}})]}}, 'step': 1, 'parents': {}}, created_at='2024-10-22T18:52:42.430755+00:00', parent_config={'configurable': {'thread_id': '2', 'checkpoint_ns': '', 'checkpoint_id': '1ef90a6d-0f38-6916-8000-55fcf3ed8495'}}, tasks=(PregelTask(id='ec273307-de50-ebbc-0cdb-53167caf06a1', name='tools', path=('__pregel_pull', 'tools'), error=None, interrupts=(), state=None),)),\n",
       " StateSnapshot(values={'messages': [HumanMessage(content='How is the weather in Los Angeles?', additional_kwargs={}, response_metadata={}, id='0bacec07-b5a1-43ee-a65f-fb2ad609876e')]}, next=('chatbot',), config={'configurable': {'thread_id': '2', 'checkpoint_ns': '', 'checkpoint_id': '1ef90a6d-0f38-6916-8000-55fcf3ed8495'}}, metadata={'source': 'loop', 'writes': None, 'step': 0, 'parents': {}}, created_at='2024-10-22T18:52:41.636687+00:00', parent_config={'configurable': {'thread_id': '2', 'checkpoint_ns': '', 'checkpoint_id': '1ef90a6d-0f36-6212-bfff-51c4074cf8ac'}}, tasks=(PregelTask(id='bbd73f4e-2d29-635a-08cf-de920322e9ef', name='chatbot', path=('__pregel_pull', 'chatbot'), error=None, interrupts=(), state=None),)),\n",
       " StateSnapshot(values={'messages': []}, next=('__start__',), config={'configurable': {'thread_id': '2', 'checkpoint_ns': '', 'checkpoint_id': '1ef90a6d-0f36-6212-bfff-51c4074cf8ac'}}, metadata={'source': 'input', 'writes': {'__start__': {'messages': HumanMessage(content='How is the weather in Los Angeles?', additional_kwargs={}, response_metadata={})}}, 'step': -1, 'parents': {}}, created_at='2024-10-22T18:52:41.635688+00:00', parent_config=None, tasks=(PregelTask(id='bbd60831-b598-c543-83a8-18402341c7ae', name='__start__', path=('__pregel_pull', '__start__'), error=None, interrupts=(), state=None),))]"
      ]
     },
     "execution_count": 22,
     "metadata": {},
     "output_type": "execute_result"
    }
   ],
   "source": [
    "all_checkpoints = []\n",
    "for state in graph.get_state_history(config=config):\n",
    "    all_checkpoints.append(state)\n",
    "all_checkpoints"
   ]
  }
 ],
 "metadata": {
  "kernelspec": {
   "display_name": ".venv",
   "language": "python",
   "name": "python3"
  },
  "language_info": {
   "codemirror_mode": {
    "name": "ipython",
    "version": 3
   },
   "file_extension": ".py",
   "mimetype": "text/x-python",
   "name": "python",
   "nbconvert_exporter": "python",
   "pygments_lexer": "ipython3",
   "version": "3.11.0"
  }
 },
 "nbformat": 4,
 "nbformat_minor": 2
}

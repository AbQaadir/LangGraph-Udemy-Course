{
 "cells": [
  {
   "cell_type": "code",
   "execution_count": null,
   "metadata": {},
   "outputs": [],
   "source": [
    "from dotenv import load_dotenv\n",
    "\n",
    "load_dotenv()"
   ]
  },
  {
   "cell_type": "code",
   "execution_count": null,
   "metadata": {},
   "outputs": [],
   "source": [
    "import random\n",
    "from typing import TypedDict\n",
    "from langgraph.graph import END, START, StateGraph\n",
    "from langgraph.pregel import RetryPolicy\n",
    "\n",
    "class InputState(TypedDict):\n",
    "    string_value: str\n",
    "\n",
    "def modify_state(input: InputState):\n",
    "    print(f\"Current state: {input}\")\n",
    "    if random.random() > 0.7:\n",
    "        print(\"Modification succeeded.\")\n",
    "        input[\"string_value\"] += \" modified\"\n",
    "    else:\n",
    "        print(\"Modification failed, retrying...\")\n",
    "        raise Exception(\"Simulated error for retry testing\")\n",
    "    return input\n",
    "\n",
    "graph = StateGraph(InputState)\n",
    "graph.add_node(\n",
    "    \"branch_a\",\n",
    "    modify_state,\n",
    "    retry=RetryPolicy(retry_on=Exception, max_attempts=3)\n",
    ")\n",
    "graph.add_node(\n",
    "    \"branch_b\",\n",
    "    modify_state,\n",
    "    retry=RetryPolicy(retry_on=Exception, max_attempts=3)\n",
    ")\n",
    "graph.add_edge(\"branch_a\", \"branch_b\")\n",
    "graph.add_edge(\"branch_b\", END)\n",
    "graph.set_entry_point(\"branch_a\")\n",
    "\n",
    "runnable = graph.compile()"
   ]
  },
  {
   "cell_type": "code",
   "execution_count": null,
   "metadata": {},
   "outputs": [],
   "source": [
    "initial_state = {\"string_value\": \"start\"}\n",
    "result = runnable.invoke(initial_state)\n",
    "print(f\"Final state: {result}\")"
   ]
  },
  {
   "cell_type": "markdown",
   "metadata": {},
   "source": [
    "### Long Term Memory"
   ]
  },
  {
   "cell_type": "code",
   "execution_count": null,
   "metadata": {},
   "outputs": [],
   "source": [
    "from langgraph.store.memory import InMemoryStore\n",
    "\n",
    "# InMemoryStore saves data to an in-memory dictionary. Use a DB-backed store in production use.\n",
    "store = InMemoryStore()\n",
    "user_id = \"my-user\"\n",
    "application_context = \"chitchat\"\n",
    "namespace = (user_id, application_context)\n",
    "store.put(namespace, \"a-memory\", {\"rules\": [\"User likes short, direct language\", \"User only speaks English & python\"], \"my-key\": \"my-value\"})\n",
    "# get the \"memory\" by ID\n",
    "item = store.get(namespace, \"a-memory\")\n",
    "# list \"memories\" within this namespace, filtering on content equivalence\n",
    "items = store.search(namespace, filter={\"my-key\": \"my-value\"})"
   ]
  }
 ],
 "metadata": {
  "kernelspec": {
   "display_name": ".venv",
   "language": "python",
   "name": "python3"
  },
  "language_info": {
   "codemirror_mode": {
    "name": "ipython",
    "version": 3
   },
   "file_extension": ".py",
   "mimetype": "text/x-python",
   "name": "python",
   "nbconvert_exporter": "python",
   "pygments_lexer": "ipython3",
   "version": "3.11.0"
  }
 },
 "nbformat": 4,
 "nbformat_minor": 2
}

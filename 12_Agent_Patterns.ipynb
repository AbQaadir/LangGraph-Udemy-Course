{
 "cells": [
  {
   "cell_type": "code",
   "execution_count": 1,
   "metadata": {},
   "outputs": [
    {
     "data": {
      "text/plain": [
       "True"
      ]
     },
     "execution_count": 1,
     "metadata": {},
     "output_type": "execute_result"
    }
   ],
   "source": [
    "from dotenv import load_dotenv\n",
    "\n",
    "load_dotenv()"
   ]
  },
  {
   "cell_type": "code",
   "execution_count": 2,
   "metadata": {},
   "outputs": [],
   "source": [
    "from typing import TypedDict, Literal, Annotated, List\n",
    "from operator import add\n",
    "from langchain_core.messages import HumanMessage, SystemMessage, BaseMessage\n",
    "from langgraph.graph import END, START, StateGraph\n",
    "from langgraph.prebuilt import ToolNode\n",
    "from langchain_openai import ChatOpenAI\n",
    "from langchain_core.tools import tool\n",
    "\n",
    "class InputState(TypedDict):\n",
    "    article: str\n",
    "\n",
    "class OutputState(TypedDict):\n",
    "    agent_output: str\n",
    "\n",
    "class OverallState(InputState, OutputState):\n",
    "    messages: Annotated[List[BaseMessage], add]\n",
    "\n",
    "@tool\n",
    "def get_current_club(player_name: str):\n",
    "    \"\"\"Gets current club of a player\"\"\"\n",
    "    fake_db = {\n",
    "        \"Lionel Messi\": \"Paris Saint-Germain\",\n",
    "        \"Cristiano Ronaldo\": \"Al Nassr FC\",\n",
    "    }\n",
    "    return fake_db.get(player_name, \"Current club information not available.\")\n",
    "\n",
    "tools2 = [get_current_club]\n",
    "model2 = ChatOpenAI(model=\"gpt-4o-mini\").bind_tools(tools2)\n",
    "\n",
    "def call_model_current_club(state: OverallState):\n",
    "    local_messages = state.get('messages', [])\n",
    "    if not local_messages:\n",
    "        human_message = HumanMessage(content=state['article'])\n",
    "        local_messages.append(human_message)\n",
    "    system_message = SystemMessage(content=\"\"\"You are an agent tasked with determining the current club of a player.\n",
    "If the current club is mentioned, return it. Otherwise, return 'Current club information not available.'\"\"\")\n",
    "    response = model2.invoke([system_message] + local_messages)\n",
    "    state['agent_output'] = response.content\n",
    "    state['messages'] = local_messages + [response]\n",
    "    return state\n",
    "\n",
    "def should_continue(state: OverallState) -> Literal[\"tools\", END]:\n",
    "    last_message = state['messages'][-1]\n",
    "    if getattr(last_message, 'tool_calls', None):\n",
    "        return \"tools\"\n",
    "    return END\n",
    "\n",
    "current_club_graph = StateGraph(OverallState, input=InputState, output=OutputState)\n",
    "current_club_graph.add_node(\"call_model_current_club\", call_model_current_club)\n",
    "current_club_graph.add_node(\"tools\", ToolNode(tools2))\n",
    "current_club_graph.add_edge(START, \"call_model_current_club\")\n",
    "current_club_graph.add_conditional_edges(\"call_model_current_club\", should_continue)\n",
    "current_club_graph.add_edge(\"tools\", \"call_model_current_club\")\n",
    "\n",
    "current_club_researcher_agent = current_club_graph.compile()\n"
   ]
  },
  {
   "cell_type": "code",
   "execution_count": 3,
   "metadata": {},
   "outputs": [
    {
     "data": {
      "text/plain": [
       "{'agent_output': \"Lionel Messi's current club is Paris Saint-Germain.\"}"
      ]
     },
     "execution_count": 3,
     "metadata": {},
     "output_type": "execute_result"
    }
   ],
   "source": [
    "initial_state = {\n",
    "    \"article\": \"Lionel Messi will join Real Madrid 2025\",\n",
    "}\n",
    "current_club_researcher_agent.invoke(initial_state)"
   ]
  },
  {
   "cell_type": "code",
   "execution_count": 4,
   "metadata": {},
   "outputs": [],
   "source": [
    "class InputState(TypedDict):\n",
    "    article: str\n",
    "\n",
    "class OutputState(TypedDict):\n",
    "    agent_output: str\n",
    "\n",
    "class OverallState(InputState, OutputState):\n",
    "    messages: Annotated[List[BaseMessage], add]\n",
    "\n",
    "@tool\n",
    "def get_market_value(player_name: str):\n",
    "    \"\"\"Gets current market value of a player\"\"\"\n",
    "    fake_market_value_db = {\n",
    "        \"Lionel Messi\": \"€50 million\",\n",
    "        \"Cristiano Ronaldo\": \"€30 million\",\n",
    "    }\n",
    "    return fake_market_value_db.get(player_name, \"Market value information not available.\")\n",
    "\n",
    "tools2 = [get_market_value]\n",
    "model2 = ChatOpenAI(model=\"gpt-4o-mini\").bind_tools(tools2)\n",
    "\n",
    "def call_model_market_value(state: OverallState):\n",
    "    local_messages = state.get('messages', [])\n",
    "    if not local_messages:\n",
    "        human_message = HumanMessage(content=state['article'])\n",
    "        local_messages.append(human_message)\n",
    "    system_message = SystemMessage(content=\"\"\"You are an agent tasked with determining the market value of a player.\n",
    "If the market value is mentioned, return it. Otherwise, return 'Market value information not available.'\"\"\")\n",
    "    response = model2.invoke([system_message] + local_messages)\n",
    "    state['agent_output'] = response.content\n",
    "    state['messages'] = local_messages + [response]\n",
    "    return state\n",
    "\n",
    "def should_continue(state: OverallState) -> Literal[\"tools\", END]:\n",
    "    last_message = state['messages'][-1]\n",
    "    if getattr(last_message, 'tool_calls', None):\n",
    "        return \"tools\"\n",
    "    return END\n",
    "\n",
    "market_value_graph = StateGraph(OverallState, input=InputState, output=OutputState)\n",
    "market_value_graph.add_node(\"call_model_market_value\", call_model_market_value)\n",
    "market_value_graph.add_node(\"tools\", ToolNode(tools2))\n",
    "market_value_graph.add_edge(START, \"call_model_market_value\")\n",
    "market_value_graph.add_conditional_edges(\"call_model_market_value\", should_continue)\n",
    "market_value_graph.add_edge(\"tools\", \"call_model_market_value\")\n",
    "\n",
    "market_value_researcher_agent = market_value_graph.compile()"
   ]
  },
  {
   "cell_type": "code",
   "execution_count": 5,
   "metadata": {},
   "outputs": [
    {
     "data": {
      "text/plain": [
       "{'agent_output': 'The market value of Lionel Messi is €50 million.'}"
      ]
     },
     "execution_count": 5,
     "metadata": {},
     "output_type": "execute_result"
    }
   ],
   "source": [
    "market_value_researcher_agent.invoke({\"article\": \"Lionel Messi will switch from FC Barcelona to Real Madrid in 2025\"})"
   ]
  },
  {
   "cell_type": "code",
   "execution_count": 6,
   "metadata": {},
   "outputs": [],
   "source": [
    "class InputState(TypedDict):\n",
    "    article: str\n",
    "\n",
    "class OutputState(TypedDict):\n",
    "    agent_output: str\n",
    "\n",
    "class OverallState(InputState, OutputState):\n",
    "    pass\n",
    "\n",
    "model_text_writer = ChatOpenAI(model=\"gpt-4o-mini\")\n",
    "\n",
    "def expand_text_to_100_words(state: OverallState):\n",
    "    human_message = HumanMessage(content=state['article'])\n",
    "    system_message = SystemMessage(content=\"Expand the following text to be at least 100 words. Maintain the original meaning while adding detail.\")\n",
    "    response = model_text_writer.invoke([system_message, human_message])\n",
    "    state['agent_output'] = response.content\n",
    "    return state\n",
    "\n",
    "text_writer_graph = StateGraph(OverallState, input=InputState, output=OutputState)\n",
    "text_writer_graph.add_node(\"expand_text_to_100_words\", expand_text_to_100_words)\n",
    "text_writer_graph.add_edge(START, \"expand_text_to_100_words\")\n",
    "text_writer_graph.add_edge(\"expand_text_to_100_words\", END)\n",
    "\n",
    "text_writer_agent = text_writer_graph.compile()"
   ]
  },
  {
   "cell_type": "code",
   "execution_count": 7,
   "metadata": {},
   "outputs": [
    {
     "data": {
      "text/plain": [
       "{'agent_output': \"Lionel Messi, the iconic Argentine footballer widely regarded as one of the greatest players of all time, is set to make a highly anticipated transition from FC Barcelona to Real Madrid in the year 2025. This move marks a significant shift in the football landscape, as Messi has spent the majority of his illustrious career at Barcelona, where he has broken numerous records and won countless trophies, including multiple UEFA Champions League titles and Ballon d'Or awards. The prospect of Messi donning the famous white jersey of Real Madrid, the fierce rivals of Barcelona, has sparked intense discussions and speculation among fans and pundits alike. This transfer, if it materializes, will undoubtedly send shockwaves through the footballing world, as it not only signifies a personal change for Messi but also impacts the dynamics of La Liga and European football as a whole. The anticipation surrounding this potential transfer is palpable as fans eagerly await the developments leading up to 2025.\"}"
      ]
     },
     "execution_count": 7,
     "metadata": {},
     "output_type": "execute_result"
    }
   ],
   "source": [
    "text_writer_agent.invoke({\"article\": \"Lionel Messi will switch from FC Barcelona to Real Madrid in 2025\"})"
   ]
  },
  {
   "cell_type": "markdown",
   "metadata": {},
   "source": [
    "### Supervisor Agent"
   ]
  },
  {
   "cell_type": "code",
   "execution_count": 8,
   "metadata": {},
   "outputs": [],
   "source": [
    "from langchain_openai import ChatOpenAI\n",
    "from langchain_core.prompts import ChatPromptTemplate\n",
    "from pydantic import BaseModel, Field\n",
    "\n",
    "class ArticlePostabilityGrader(BaseModel):\n",
    "    \"\"\"Binary scores for verifying if an article mentions market value, current club, and meets the minimum word count of 100 words.\"\"\"\n",
    "\n",
    "    mentions_market_value: str = Field(\n",
    "        description=\"The article mentions the player's market value, 'yes' or 'no'\"\n",
    "    )\n",
    "    mentions_current_club: str = Field(\n",
    "        description=\"The article mentions the player's current club, 'yes' or 'no'\"\n",
    "    )\n",
    "    meets_100_words: str = Field(\n",
    "        description=\"The article has at least 100 words, 'yes' or 'no'\"\n",
    "    )\n",
    "\n",
    "llm_postability = ChatOpenAI(model=\"gpt-4o-mini\", temperature=0)\n",
    "structured_llm_postability_grader = llm_postability.with_structured_output(\n",
    "    ArticlePostabilityGrader\n",
    ")\n",
    "\n",
    "postability_system = \"\"\"\n",
    "You are a grader assessing whether a news article meets the following criteria:\n",
    "1. The article explicitly mentions the player's market value, for example, by stating \"market value\" or a specific currency amount (e.g., \"$50 million\"). If this is present, respond with 'yes' for mentions_market_value; otherwise, respond 'no'.\n",
    "2. The article mentions the player's current club or indicates that the current club information is unavailable (e.g., \"Current club information not available\"). If this is present, respond with 'yes' for mentions_current_club; otherwise, respond 'no'.\n",
    "3. The article contains at least 100 words. If this is met, respond with 'yes' for meets_100_words; otherwise, respond 'no'.\n",
    "\n",
    "Provide three binary scores ('yes' or 'no') as follows:\n",
    "- mentions_market_value: 'yes' or 'no' depending on whether the article mentions the player's market value.\n",
    "- mentions_current_club: 'yes' or 'no' depending on whether the article mentions the player's current club or states that the information is unavailable.\n",
    "- meets_100_words: 'yes' or 'no' depending on whether the article has at least 100 words.\n",
    "\"\"\"\n",
    "\n",
    "postability_grade_prompt = ChatPromptTemplate.from_messages(\n",
    "    [(\"system\", postability_system), (\"human\", \"News Article:\\n\\n{article}\")]\n",
    ")\n",
    "\n",
    "news_chef = postability_grade_prompt | structured_llm_postability_grader\n"
   ]
  },
  {
   "cell_type": "code",
   "execution_count": 9,
   "metadata": {},
   "outputs": [
    {
     "data": {
      "text/plain": [
       "ArticlePostabilityGrader(mentions_market_value='no', mentions_current_club='no', meets_100_words='no')"
      ]
     },
     "execution_count": 9,
     "metadata": {},
     "output_type": "execute_result"
    }
   ],
   "source": [
    "news_chef.invoke({\"article\": \"Lionel Messi will switch to Real Madrid in 2025\"})"
   ]
  },
  {
   "cell_type": "markdown",
   "metadata": {},
   "source": [
    "### Workflow"
   ]
  },
  {
   "cell_type": "code",
   "execution_count": 10,
   "metadata": {},
   "outputs": [],
   "source": [
    "from langchain_core.messages import BaseMessage, HumanMessage\n",
    "from typing import TypedDict, Literal\n",
    "from langgraph.graph import END, StateGraph\n",
    "\n",
    "class InputArticleState(TypedDict):\n",
    "    article: str\n",
    "\n",
    "class OutputFinalArticleState(TypedDict):\n",
    "    final_article: str\n",
    "\n",
    "class SharedArticleState(InputArticleState, OutputFinalArticleState):\n",
    "    mentions_market_value: str\n",
    "    mentions_current_club: str\n",
    "    meets_100_words: str\n",
    "\n",
    "def update_article_state(state: SharedArticleState) -> SharedArticleState:\n",
    "    response = news_chef.invoke({\"article\": state[\"article\"]})\n",
    "    state[\"mentions_market_value\"] = response.mentions_market_value\n",
    "    state[\"mentions_current_club\"] = response.mentions_current_club\n",
    "    state[\"meets_100_words\"] = response.meets_100_words\n",
    "    print(\"State after update_article_state:\", state)\n",
    "    return state\n",
    "\n",
    "def market_value_researcher_node(state: SharedArticleState) -> SharedArticleState:\n",
    "    response = market_value_researcher_agent.invoke({\"article\": state[\"article\"]})\n",
    "    state[\"article\"] += f\" {response['agent_output']}\"\n",
    "    return state\n",
    "\n",
    "def current_club_researcher_node(state: SharedArticleState) -> SharedArticleState:\n",
    "    response = current_club_researcher_agent.invoke({\"article\": state[\"article\"]})\n",
    "    state[\"article\"] += f\" {response['agent_output']}\"\n",
    "    return state\n",
    "\n",
    "def word_count_rewriter_node(state: SharedArticleState) -> SharedArticleState:\n",
    "    response = text_writer_agent.invoke({\"article\": state[\"article\"]})\n",
    "    state[\"article\"] += f\" {response['agent_output']}\"\n",
    "    state[\"final_article\"] = response[\"agent_output\"]\n",
    "    return state\n",
    "\n",
    "def news_chef_decider(state: SharedArticleState) -> Literal[\"market_value_researcher\", \"current_club_researcher\", \"word_count_rewriter\", END]:\n",
    "    if state[\"mentions_market_value\"] == \"no\":\n",
    "        return \"market_value_researcher\"\n",
    "    elif state[\"mentions_current_club\"] == \"no\":\n",
    "        return \"current_club_researcher\"\n",
    "    elif state[\"meets_100_words\"] == \"no\" and state[\"mentions_market_value\"] == \"yes\" and state[\"mentions_current_club\"] == \"yes\":\n",
    "        return \"word_count_rewriter\"\n",
    "    else:\n",
    "        return END\n",
    "\n",
    "workflow = StateGraph(SharedArticleState, input=InputArticleState, output=OutputFinalArticleState)\n",
    "\n",
    "workflow.add_node(\"news_chef\", update_article_state)\n",
    "workflow.add_node(\"market_value_researcher\", market_value_researcher_node)\n",
    "workflow.add_node(\"current_club_researcher\", current_club_researcher_node)\n",
    "workflow.add_node(\"word_count_rewriter\", word_count_rewriter_node)\n",
    "\n",
    "workflow.set_entry_point(\"news_chef\")\n",
    "\n",
    "workflow.add_conditional_edges(\n",
    "    \"news_chef\",\n",
    "    news_chef_decider,\n",
    "    {\n",
    "        \"market_value_researcher\": \"market_value_researcher\",\n",
    "        \"current_club_researcher\": \"current_club_researcher\",\n",
    "        \"word_count_rewriter\": \"word_count_rewriter\",\n",
    "        END: END\n",
    "    },\n",
    ")\n",
    "\n",
    "workflow.add_edge(\"market_value_researcher\", \"news_chef\")\n",
    "workflow.add_edge(\"current_club_researcher\", \"news_chef\")\n",
    "workflow.add_edge(\"word_count_rewriter\", \"news_chef\")\n",
    "\n",
    "app = workflow.compile()"
   ]
  },
  {
   "cell_type": "code",
   "execution_count": 11,
   "metadata": {},
   "outputs": [
    {
     "name": "stdout",
     "output_type": "stream",
     "text": [
      "State after update_article_state: {'article': 'Lionel Messi will to Real Madrid in 2025', 'mentions_market_value': 'no', 'mentions_current_club': 'no', 'meets_100_words': 'no'}\n",
      "State after update_article_state: {'article': 'Lionel Messi will to Real Madrid in 2025 The market value of Lionel Messi is €50 million.', 'mentions_market_value': 'yes', 'mentions_current_club': 'no', 'meets_100_words': 'no'}\n",
      "State after update_article_state: {'article': 'Lionel Messi will to Real Madrid in 2025 The market value of Lionel Messi is €50 million. Current club information not available.', 'mentions_market_value': 'yes', 'mentions_current_club': 'yes', 'meets_100_words': 'no'}\n",
      "State after update_article_state: {'article': \"Lionel Messi will to Real Madrid in 2025 The market value of Lionel Messi is €50 million. Current club information not available. Lionel Messi, the legendary Argentine footballer, is expected to make a significant move to Real Madrid in the year 2025. This transfer has sparked considerable excitement among fans and analysts alike, as it would mark a dramatic shift in his illustrious career. Currently, Messi's market value stands at an impressive €50 million, reflecting his enduring talent and influence on the field, despite any potential age-related decline. However, it is important to note that information regarding his current club is not available at this time, which leaves fans curious about his immediate playing situation. As the football world awaits further developments, the prospect of Messi wearing the iconic white jersey of Real Madrid adds an intriguing layer to the ongoing narrative of his career.\", 'final_article': \"Lionel Messi, the legendary Argentine footballer, is expected to make a significant move to Real Madrid in the year 2025. This transfer has sparked considerable excitement among fans and analysts alike, as it would mark a dramatic shift in his illustrious career. Currently, Messi's market value stands at an impressive €50 million, reflecting his enduring talent and influence on the field, despite any potential age-related decline. However, it is important to note that information regarding his current club is not available at this time, which leaves fans curious about his immediate playing situation. As the football world awaits further developments, the prospect of Messi wearing the iconic white jersey of Real Madrid adds an intriguing layer to the ongoing narrative of his career.\", 'mentions_market_value': 'yes', 'mentions_current_club': 'yes', 'meets_100_words': 'yes'}\n"
     ]
    },
    {
     "data": {
      "text/plain": [
       "{'final_article': \"Lionel Messi, the legendary Argentine footballer, is expected to make a significant move to Real Madrid in the year 2025. This transfer has sparked considerable excitement among fans and analysts alike, as it would mark a dramatic shift in his illustrious career. Currently, Messi's market value stands at an impressive €50 million, reflecting his enduring talent and influence on the field, despite any potential age-related decline. However, it is important to note that information regarding his current club is not available at this time, which leaves fans curious about his immediate playing situation. As the football world awaits further developments, the prospect of Messi wearing the iconic white jersey of Real Madrid adds an intriguing layer to the ongoing narrative of his career.\"}"
      ]
     },
     "execution_count": 11,
     "metadata": {},
     "output_type": "execute_result"
    }
   ],
   "source": [
    "app.invoke({\"article\": \"Lionel Messi will to Real Madrid in 2025\"})"
   ]
  },
  {
   "cell_type": "markdown",
   "metadata": {},
   "source": [
    "### Add Human in the Loop"
   ]
  },
  {
   "cell_type": "code",
   "execution_count": null,
   "metadata": {},
   "outputs": [],
   "source": [
    "from langgraph.graph import StateGraph, START, END\n",
    "from langgraph.checkpoint.memory import MemorySaver\n",
    "\n",
    "checkpointer = MemorySaver()\n",
    "\n",
    "\n",
    "class InputState(TypedDict):\n",
    "    question: str\n",
    "\n",
    "class IntermediateState(InputState):\n",
    "    answer: str\n",
    "\n",
    "class FinalState(IntermediateState):\n",
    "    api_response: str\n",
    "    status_code: int"
   ]
  },
  {
   "cell_type": "code",
   "execution_count": null,
   "metadata": {},
   "outputs": [],
   "source": [
    "def input_node(state: InputState) -> InputState:\n",
    "    return state\n",
    "\n",
    "def newsagent_node(state: IntermediateState) -> IntermediateState:\n",
    "    response = app.invoke({\"article\": state[\"question\"]})\n",
    "    state[\"answer\"] = response[\"final_article\"]\n",
    "    return state\n",
    "\n",
    "def api_call_node(state: FinalState) -> FinalState:\n",
    "    state[\"status_code\"] = 200\n",
    "    state[\"api_response\"] = f\"API received answer: {state['answer']}\""
   ]
  },
  {
   "cell_type": "code",
   "execution_count": 21,
   "metadata": {},
   "outputs": [
    {
     "data": {
      "text/plain": [
       "<langgraph.graph.state.StateGraph at 0x27b8d49acd0>"
      ]
     },
     "execution_count": 21,
     "metadata": {},
     "output_type": "execute_result"
    }
   ],
   "source": [
    "workflow = StateGraph(FinalState, input=InputState, output=FinalState)\n",
    "\n",
    "workflow.add_node(\"newsagent_node\", newsagent_node)\n",
    "workflow.add_node(\"api_call_node\", api_call_node)\n",
    "\n",
    "workflow.set_entry_point(\"newsagent_node\")\n",
    "\n",
    "workflow.add_edge(\"newsagent_node\", \"api_call_node\")\n",
    "workflow.add_edge(\"api_call_node\", END)"
   ]
  },
  {
   "cell_type": "code",
   "execution_count": 22,
   "metadata": {},
   "outputs": [],
   "source": [
    "human_app = workflow.compile(checkpointer=checkpointer, interrupt_after=[\"newsagent_node\"])"
   ]
  },
  {
   "cell_type": "code",
   "execution_count": 23,
   "metadata": {},
   "outputs": [
    {
     "data": {
      "image/jpeg": "[encoded data removed]",
      "text/plain": [
       "<IPython.core.display.Image object>"
      ]
     },
     "metadata": {},
     "output_type": "display_data"
    }
   ],
   "source": [
    "from IPython.display import Image, display\n",
    "from langchain_core.runnables.graph import MermaidDrawMethod\n",
    "\n",
    "display(\n",
    "    Image(\n",
    "        human_app.get_graph().draw_mermaid_png(\n",
    "            draw_method=MermaidDrawMethod.API,\n",
    "        )\n",
    "    )\n",
    ")"
   ]
  },
  {
   "cell_type": "code",
   "execution_count": 17,
   "metadata": {},
   "outputs": [],
   "source": [
    "config = {\"configurable\": {\"thread_id\": \"1\"}}"
   ]
  },
  {
   "cell_type": "code",
   "execution_count": 18,
   "metadata": {},
   "outputs": [
    {
     "name": "stdout",
     "output_type": "stream",
     "text": [
      "State after update_article_state: {'article': 'Lionel Messi will to Real Madrid in 2025', 'mentions_market_value': 'no', 'mentions_current_club': 'no', 'meets_100_words': 'no'}\n",
      "State after update_article_state: {'article': 'Lionel Messi will to Real Madrid in 2025 The market value of Lionel Messi is €50 million.', 'mentions_market_value': 'yes', 'mentions_current_club': 'no', 'meets_100_words': 'no'}\n",
      "State after update_article_state: {'article': 'Lionel Messi will to Real Madrid in 2025 The market value of Lionel Messi is €50 million. Current club information not available.', 'mentions_market_value': 'yes', 'mentions_current_club': 'yes', 'meets_100_words': 'no'}\n",
      "State after update_article_state: {'article': \"Lionel Messi will to Real Madrid in 2025 The market value of Lionel Messi is €50 million. Current club information not available. As of the latest available information, it is anticipated that the renowned footballer Lionel Messi will make a significant move to Real Madrid in the year 2025. This transfer has generated considerable buzz and speculation among fans and analysts alike, given Messi's status as one of the greatest players in football history. Currently, Messi's market value is estimated to be around €50 million, reflecting his continued skill and influence on the pitch despite his advancing age. However, details regarding his current club affiliation are not available, leaving fans eager to learn about his next steps. The potential transfer to Real Madrid, a fierce rival of his previous club, Barcelona, would undoubtedly reshape the landscape of European football and ignite passionate discussions among supporters.\", 'final_article': \"As of the latest available information, it is anticipated that the renowned footballer Lionel Messi will make a significant move to Real Madrid in the year 2025. This transfer has generated considerable buzz and speculation among fans and analysts alike, given Messi's status as one of the greatest players in football history. Currently, Messi's market value is estimated to be around €50 million, reflecting his continued skill and influence on the pitch despite his advancing age. However, details regarding his current club affiliation are not available, leaving fans eager to learn about his next steps. The potential transfer to Real Madrid, a fierce rival of his previous club, Barcelona, would undoubtedly reshape the landscape of European football and ignite passionate discussions among supporters.\", 'mentions_market_value': 'yes', 'mentions_current_club': 'yes', 'meets_100_words': 'yes'}\n"
     ]
    },
    {
     "data": {
      "text/plain": [
       "((),\n",
       " {'question': 'Lionel Messi will to Real Madrid in 2025',\n",
       "  'answer': \"As of the latest available information, it is anticipated that the renowned footballer Lionel Messi will make a significant move to Real Madrid in the year 2025. This transfer has generated considerable buzz and speculation among fans and analysts alike, given Messi's status as one of the greatest players in football history. Currently, Messi's market value is estimated to be around €50 million, reflecting his continued skill and influence on the pitch despite his advancing age. However, details regarding his current club affiliation are not available, leaving fans eager to learn about his next steps. The potential transfer to Real Madrid, a fierce rival of his previous club, Barcelona, would undoubtedly reshape the landscape of European football and ignite passionate discussions among supporters.\"})"
      ]
     },
     "execution_count": 18,
     "metadata": {},
     "output_type": "execute_result"
    }
   ],
   "source": [
    "human_app.invoke({\"question\": \"Lionel Messi will to Real Madrid in 2025\"}, config=config, subgraphs=True)"
   ]
  },
  {
   "cell_type": "code",
   "execution_count": 19,
   "metadata": {},
   "outputs": [
    {
     "data": {
      "text/plain": [
       "('api_call_node',)"
      ]
     },
     "execution_count": 19,
     "metadata": {},
     "output_type": "execute_result"
    }
   ],
   "source": [
    "snapshot = human_app.get_state(config)\n",
    "snapshot.next"
   ]
  },
  {
   "cell_type": "code",
   "execution_count": 20,
   "metadata": {},
   "outputs": [
    {
     "data": {
      "text/plain": [
       "{'question': 'Lionel Messi will to Real Madrid in 2025',\n",
       " 'answer': \"As of the latest available information, it is anticipated that the renowned footballer Lionel Messi will make a significant move to Real Madrid in the year 2025. This transfer has generated considerable buzz and speculation among fans and analysts alike, given Messi's status as one of the greatest players in football history. Currently, Messi's market value is estimated to be around €50 million, reflecting his continued skill and influence on the pitch despite his advancing age. However, details regarding his current club affiliation are not available, leaving fans eager to learn about his next steps. The potential transfer to Real Madrid, a fierce rival of his previous club, Barcelona, would undoubtedly reshape the landscape of European football and ignite passionate discussions among supporters.\",\n",
       " 'api_response': \"API received answer: As of the latest available information, it is anticipated that the renowned footballer Lionel Messi will make a significant move to Real Madrid in the year 2025. This transfer has generated considerable buzz and speculation among fans and analysts alike, given Messi's status as one of the greatest players in football history. Currently, Messi's market value is estimated to be around €50 million, reflecting his continued skill and influence on the pitch despite his advancing age. However, details regarding his current club affiliation are not available, leaving fans eager to learn about his next steps. The potential transfer to Real Madrid, a fierce rival of his previous club, Barcelona, would undoubtedly reshape the landscape of European football and ignite passionate discussions among supporters.\"}"
      ]
     },
     "execution_count": 20,
     "metadata": {},
     "output_type": "execute_result"
    }
   ],
   "source": [
    "human_app.invoke(None, config=config)"
   ]
  },
  {
   "cell_type": "code",
   "execution_count": 24,
   "metadata": {},
   "outputs": [
    {
     "data": {
      "text/plain": [
       "()"
      ]
     },
     "execution_count": 24,
     "metadata": {},
     "output_type": "execute_result"
    }
   ],
   "source": [
    "snapshot = human_app.get_state(config)\n",
    "snapshot.next"
   ]
  }
 ],
 "metadata": {
  "kernelspec": {
   "display_name": ".venv",
   "language": "python",
   "name": "python3"
  },
  "language_info": {
   "codemirror_mode": {
    "name": "ipython",
    "version": 3
   },
   "file_extension": ".py",
   "mimetype": "text/x-python",
   "name": "python",
   "nbconvert_exporter": "python",
   "pygments_lexer": "ipython3",
   "version": "3.11.0"
  }
 },
 "nbformat": 4,
 "nbformat_minor": 2
}

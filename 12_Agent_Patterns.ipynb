{
 "cells": [
  {
   "cell_type": "code",
   "execution_count": 1,
   "metadata": {},
   "outputs": [
    {
     "data": {
      "text/plain": [
       "True"
      ]
     },
     "execution_count": 1,
     "metadata": {},
     "output_type": "execute_result"
    }
   ],
   "source": [
    "from dotenv import load_dotenv\n",
    "\n",
    "load_dotenv()"
   ]
  },
  {
   "cell_type": "code",
   "execution_count": 2,
   "metadata": {},
   "outputs": [],
   "source": [
    "from typing import Literal\n",
    "from langchain_core.messages import HumanMessage, SystemMessage\n",
    "from langgraph.graph import END, START, StateGraph, MessagesState\n",
    "from langgraph.prebuilt import ToolNode\n",
    "from langchain_openai import ChatOpenAI\n",
    "from langchain_core.tools import tool\n",
    "\n",
    "@tool\n",
    "def get_market_value(player_name: str):\n",
    "    \"\"\"Fake tool to simulate querying a database for a player's market value.\"\"\"\n",
    "    fake_db = {\n",
    "        \"Lionel Messi\": \"50 Mio. Euro\",\n",
    "        \"Cristiano Ronaldo\": \"40 Mio. Euro\",\n",
    "    }\n",
    "    return fake_db.get(player_name, \"Market value information not available.\")\n",
    "\n",
    "tools = [get_market_value]\n",
    "model = ChatOpenAI(model=\"gpt-4o-mini\").bind_tools(tools)\n",
    "\n",
    "def call_model(state: MessagesState):\n",
    "    messages = state['messages']\n",
    "    system_message = SystemMessage(content=\"\"\"You are an agent tasked with determining the market value of a player.\n",
    "    If the market value is mentioned, return it in the format 'XX Mio. Euro'. Otherwise, return 'Market value information not available.'\"\"\")\n",
    "    response = model.invoke([system_message] + messages)\n",
    "    return {\"messages\": [response]}\n",
    "\n",
    "def should_continue(state: MessagesState) -> Literal[\"tools\", END]:\n",
    "    messages = state['messages']\n",
    "    last_message = messages[-1]\n",
    "    if last_message.tool_calls:\n",
    "        return \"tools\"\n",
    "    return END\n",
    "\n",
    "market_value_graph = StateGraph(MessagesState)\n",
    "market_value_graph.add_node(\"call_model\", call_model)\n",
    "market_value_graph.add_node(\"tools\", ToolNode(tools))\n",
    "market_value_graph.add_edge(START, \"call_model\")\n",
    "market_value_graph.add_conditional_edges(\"call_model\", should_continue)\n",
    "market_value_graph.add_edge(\"tools\", \"call_model\")\n",
    "\n",
    "market_value_researcher_agent = market_value_graph.compile()\n"
   ]
  },
  {
   "cell_type": "code",
   "execution_count": 3,
   "metadata": {},
   "outputs": [
    {
     "data": {
      "text/plain": [
       "{'messages': [HumanMessage(content='Lionel Messi goes to Real Madrid in 2025', additional_kwargs={}, response_metadata={}, id='86f37b72-7319-4742-a19a-a407189341b1'),\n",
       "  AIMessage(content='', additional_kwargs={'tool_calls': [{'id': 'call_TlXvYitvihVT9aZZXuyZjM6j', 'function': {'arguments': '{\"player_name\":\"Lionel Messi\"}', 'name': 'get_market_value'}, 'type': 'function'}], 'refusal': None}, response_metadata={'token_usage': {'completion_tokens': 18, 'prompt_tokens': 106, 'total_tokens': 124, 'completion_tokens_details': {'audio_tokens': 0, 'reasoning_tokens': 0, 'accepted_prediction_tokens': 0, 'rejected_prediction_tokens': 0}, 'prompt_tokens_details': {'audio_tokens': 0, 'cached_tokens': 0}}, 'model_name': 'gpt-4o-mini-2024-07-18', 'system_fingerprint': 'fp_0ba0d124f1', 'finish_reason': 'tool_calls', 'logprobs': None}, id='run-cfb95ac1-1bf8-4079-acd1-252ad70ed024-0', tool_calls=[{'name': 'get_market_value', 'args': {'player_name': 'Lionel Messi'}, 'id': 'call_TlXvYitvihVT9aZZXuyZjM6j', 'type': 'tool_call'}], usage_metadata={'input_tokens': 106, 'output_tokens': 18, 'total_tokens': 124, 'input_token_details': {'audio': 0, 'cache_read': 0}, 'output_token_details': {'audio': 0, 'reasoning': 0}}),\n",
       "  ToolMessage(content='50 Mio. Euro', name='get_market_value', id='b8dc4c6f-428d-404e-9c5b-d89afbb987c9', tool_call_id='call_TlXvYitvihVT9aZZXuyZjM6j'),\n",
       "  AIMessage(content='50 Mio. Euro', additional_kwargs={'refusal': None}, response_metadata={'token_usage': {'completion_tokens': 5, 'prompt_tokens': 137, 'total_tokens': 142, 'completion_tokens_details': {'audio_tokens': 0, 'reasoning_tokens': 0, 'accepted_prediction_tokens': 0, 'rejected_prediction_tokens': 0}, 'prompt_tokens_details': {'audio_tokens': 0, 'cached_tokens': 0}}, 'model_name': 'gpt-4o-mini-2024-07-18', 'system_fingerprint': 'fp_0ba0d124f1', 'finish_reason': 'stop', 'logprobs': None}, id='run-5720a471-0b86-4b0a-848a-8677891cdd51-0', usage_metadata={'input_tokens': 137, 'output_tokens': 5, 'total_tokens': 142, 'input_token_details': {'audio': 0, 'cache_read': 0}, 'output_token_details': {'audio': 0, 'reasoning': 0}})]}"
      ]
     },
     "execution_count": 3,
     "metadata": {},
     "output_type": "execute_result"
    }
   ],
   "source": [
    "market_value_researcher_agent.invoke({\"messages\": HumanMessage(content=\"Lionel Messi goes to Real Madrid in 2025\")})"
   ]
  },
  {
   "cell_type": "code",
   "execution_count": 4,
   "metadata": {},
   "outputs": [],
   "source": [
    "@tool\n",
    "def get_current_club(player_name: str):\n",
    "    \"\"\"Fake tool to simulate querying a database for a player's current club.\"\"\"\n",
    "    fake_db = {\n",
    "        \"Lionel Messi\": \"Paris Saint-Germain\",\n",
    "        \"Cristiano Ronaldo\": \"Al Nassr FC\",\n",
    "    }\n",
    "    return fake_db.get(player_name, \"Current club information not available.\")\n",
    "\n",
    "tools = [get_current_club]\n",
    "model = ChatOpenAI(model=\"gpt-4o-mini\").bind_tools(tools)\n",
    "\n",
    "def call_model_current_club(state: MessagesState):\n",
    "    messages = state['messages']\n",
    "    system_message = SystemMessage(content=\"\"\"You are an agent tasked with determining the current club of a player.\n",
    "    If the current club is mentioned, return it. Otherwise, return 'Current club information not available.'\"\"\")\n",
    "    response = model.invoke([system_message] + messages)\n",
    "    return {\"messages\": [response]}\n",
    "\n",
    "\n",
    "current_club_graph = StateGraph(MessagesState)\n",
    "current_club_graph.add_node(\"call_model_current_club\", call_model_current_club)\n",
    "current_club_graph.add_node(\"tools\", ToolNode(tools))\n",
    "current_club_graph.add_edge(START, \"call_model_current_club\")\n",
    "current_club_graph.add_conditional_edges(\"call_model_current_club\", should_continue)\n",
    "current_club_graph.add_edge(\"tools\", \"call_model_current_club\")\n",
    "\n",
    "current_club_researcher_agent = current_club_graph.compile()"
   ]
  },
  {
   "cell_type": "code",
   "execution_count": 5,
   "metadata": {},
   "outputs": [
    {
     "data": {
      "text/plain": [
       "{'messages': [HumanMessage(content='Lionel Messi joins a new club in Paris', additional_kwargs={}, response_metadata={}, id='df57ebe9-9615-45e7-860d-b8c9ab1687a5'),\n",
       "  AIMessage(content='', additional_kwargs={'tool_calls': [{'id': 'call_LrvJN5MLy0pM2lMQwHYMOLmD', 'function': {'arguments': '{\"player_name\":\"Lionel Messi\"}', 'name': 'get_current_club'}, 'type': 'function'}], 'refusal': None}, response_metadata={'token_usage': {'completion_tokens': 19, 'prompt_tokens': 97, 'total_tokens': 116, 'completion_tokens_details': {'audio_tokens': 0, 'reasoning_tokens': 0, 'accepted_prediction_tokens': 0, 'rejected_prediction_tokens': 0}, 'prompt_tokens_details': {'audio_tokens': 0, 'cached_tokens': 0}}, 'model_name': 'gpt-4o-mini-2024-07-18', 'system_fingerprint': 'fp_0ba0d124f1', 'finish_reason': 'tool_calls', 'logprobs': None}, id='run-45058a1c-ee69-4f6e-8ffd-a9bcc2ec2ebe-0', tool_calls=[{'name': 'get_current_club', 'args': {'player_name': 'Lionel Messi'}, 'id': 'call_LrvJN5MLy0pM2lMQwHYMOLmD', 'type': 'tool_call'}], usage_metadata={'input_tokens': 97, 'output_tokens': 19, 'total_tokens': 116, 'input_token_details': {'audio': 0, 'cache_read': 0}, 'output_token_details': {'audio': 0, 'reasoning': 0}}),\n",
       "  ToolMessage(content='Paris Saint-Germain', name='get_current_club', id='2273d51d-800a-4013-9115-b2b424345f2c', tool_call_id='call_LrvJN5MLy0pM2lMQwHYMOLmD'),\n",
       "  AIMessage(content=\"Lionel Messi's current club is Paris Saint-Germain.\", additional_kwargs={'refusal': None}, response_metadata={'token_usage': {'completion_tokens': 12, 'prompt_tokens': 129, 'total_tokens': 141, 'completion_tokens_details': {'audio_tokens': 0, 'reasoning_tokens': 0, 'accepted_prediction_tokens': 0, 'rejected_prediction_tokens': 0}, 'prompt_tokens_details': {'audio_tokens': 0, 'cached_tokens': 0}}, 'model_name': 'gpt-4o-mini-2024-07-18', 'system_fingerprint': 'fp_0ba0d124f1', 'finish_reason': 'stop', 'logprobs': None}, id='run-edf4f9b8-6058-44d5-a466-6b5738575117-0', usage_metadata={'input_tokens': 129, 'output_tokens': 12, 'total_tokens': 141, 'input_token_details': {'audio': 0, 'cache_read': 0}, 'output_token_details': {'audio': 0, 'reasoning': 0}})]}"
      ]
     },
     "execution_count": 5,
     "metadata": {},
     "output_type": "execute_result"
    }
   ],
   "source": [
    "initial_state = {\"messages\": [HumanMessage(content=\"Lionel Messi joins a new club in Paris\")]}\n",
    "current_club_researcher_agent.invoke(initial_state)"
   ]
  },
  {
   "cell_type": "code",
   "execution_count": 6,
   "metadata": {},
   "outputs": [],
   "source": [
    "@tool\n",
    "def count_words(text: str) -> int:\n",
    "    \"\"\"Tool to determine the length of a text\"\"\"\n",
    "    words = text.split()\n",
    "    return len(words)\n",
    "\n",
    "tools = [count_words]\n",
    "model = ChatOpenAI(model=\"gpt-4o-mini\").bind_tools(tools)\n",
    "\n",
    "def call_model_word_count(state: MessagesState):\n",
    "    messages = state['messages']\n",
    "    system_message = SystemMessage(content=\"\"\"You are an agent tasked with rewriting the document to ensure it contains at least 50 words.\n",
    "    If the document contains fewer than 50 words, expand it too >50 words without changing the context of the text.\n",
    "    Only provide the new, expanded text in your response, without explaining what changes were made.\"\"\")\n",
    "    response = model.invoke([system_message] + messages)\n",
    "    return {\"messages\": [response]}\n",
    "\n",
    "def should_continue(state: MessagesState) -> Literal[\"tools\", END]:\n",
    "    messages = state['messages']\n",
    "    last_message = messages[-1]\n",
    "    if last_message.tool_calls:\n",
    "        return \"tools\"\n",
    "    return END\n",
    "\n",
    "word_count_graph = StateGraph(MessagesState)\n",
    "word_count_graph.add_node(\"call_model_word_count\", call_model_word_count)\n",
    "word_count_graph.add_node(\"tools\", ToolNode(tools))\n",
    "word_count_graph.add_edge(START, \"call_model_word_count\")\n",
    "word_count_graph.add_conditional_edges(\"call_model_word_count\", should_continue)\n",
    "word_count_graph.add_edge(\"tools\", \"call_model_word_count\")\n",
    "\n",
    "word_count_rewriter_agent = word_count_graph.compile()"
   ]
  },
  {
   "cell_type": "code",
   "execution_count": 7,
   "metadata": {},
   "outputs": [
    {
     "data": {
      "text/plain": [
       "{'messages': [HumanMessage(content='Messi will switch to Real Madrid in 2025', additional_kwargs={}, response_metadata={}, id='fb84a4e2-1671-4d2e-bf56-fd382c1907d8'),\n",
       "  AIMessage(content='', additional_kwargs={'tool_calls': [{'id': 'call_f8hWAafdSHDt8qk7JaISJaRn', 'function': {'arguments': '{\"text\":\"Messi will switch to Real Madrid in 2025\"}', 'name': 'count_words'}, 'type': 'function'}], 'refusal': None}, response_metadata={'token_usage': {'completion_tokens': 24, 'prompt_tokens': 120, 'total_tokens': 144, 'completion_tokens_details': {'audio_tokens': 0, 'reasoning_tokens': 0, 'accepted_prediction_tokens': 0, 'rejected_prediction_tokens': 0}, 'prompt_tokens_details': {'audio_tokens': 0, 'cached_tokens': 0}}, 'model_name': 'gpt-4o-mini-2024-07-18', 'system_fingerprint': 'fp_0ba0d124f1', 'finish_reason': 'tool_calls', 'logprobs': None}, id='run-0cd60dae-b34e-449e-9c05-3903f649e23d-0', tool_calls=[{'name': 'count_words', 'args': {'text': 'Messi will switch to Real Madrid in 2025'}, 'id': 'call_f8hWAafdSHDt8qk7JaISJaRn', 'type': 'tool_call'}], usage_metadata={'input_tokens': 120, 'output_tokens': 24, 'total_tokens': 144, 'input_token_details': {'audio': 0, 'cache_read': 0}, 'output_token_details': {'audio': 0, 'reasoning': 0}}),\n",
       "  ToolMessage(content='8', name='count_words', id='b1f2b234-5364-4497-b95a-528f88a06c57', tool_call_id='call_f8hWAafdSHDt8qk7JaISJaRn'),\n",
       "  AIMessage(content='It has been rumored that Lionel Messi will make a significant switch to Real Madrid in the year 2025. This potential move has generated much discussion and excitement among fans and analysts alike, as Messi has spent a considerable part of his illustrious career at Barcelona. Such a transfer would mark a monumental change in the football landscape.', additional_kwargs={'refusal': None}, response_metadata={'token_usage': {'completion_tokens': 66, 'prompt_tokens': 153, 'total_tokens': 219, 'completion_tokens_details': {'audio_tokens': 0, 'reasoning_tokens': 0, 'accepted_prediction_tokens': 0, 'rejected_prediction_tokens': 0}, 'prompt_tokens_details': {'audio_tokens': 0, 'cached_tokens': 0}}, 'model_name': 'gpt-4o-mini-2024-07-18', 'system_fingerprint': 'fp_0ba0d124f1', 'finish_reason': 'stop', 'logprobs': None}, id='run-f304f982-4948-4205-b856-10b562a184e3-0', usage_metadata={'input_tokens': 153, 'output_tokens': 66, 'total_tokens': 219, 'input_token_details': {'audio': 0, 'cache_read': 0}, 'output_token_details': {'audio': 0, 'reasoning': 0}})]}"
      ]
     },
     "execution_count": 7,
     "metadata": {},
     "output_type": "execute_result"
    }
   ],
   "source": [
    "initial_state = {\"messages\": [HumanMessage(content=\"Messi will switch to Real Madrid in 2025\")]}\n",
    "word_count_rewriter_agent.invoke(initial_state)"
   ]
  },
  {
   "cell_type": "markdown",
   "metadata": {},
   "source": [
    "### Supervisor Agent"
   ]
  },
  {
   "cell_type": "code",
   "execution_count": 9,
   "metadata": {},
   "outputs": [],
   "source": [
    "from langchain_openai import ChatOpenAI\n",
    "from langchain_core.prompts import ChatPromptTemplate\n",
    "from pydantic import BaseModel, Field\n",
    "\n",
    "class ArticlePostabilityGrader(BaseModel):\n",
    "    \"\"\"Binary scores for verifying if an article mentions market value, current club, and meets the minimum word count of 100 words.\"\"\"\n",
    "\n",
    "    mentions_market_value: str = Field(\n",
    "        description=\"The article mentions the player's market value, 'yes' or 'no'\"\n",
    "    )\n",
    "    mentions_current_club: str = Field(\n",
    "        description=\"The article mentions the player's current club, 'yes' or 'no'\"\n",
    "    )\n",
    "    meets_100_words: str = Field(\n",
    "        description=\"The article has at least 100 words, 'yes' or 'no'\"\n",
    "    )\n",
    "\n",
    "llm_postability = ChatOpenAI(model=\"gpt-4o-mini\", temperature=0)\n",
    "structured_llm_postability_grader = llm_postability.with_structured_output(\n",
    "    ArticlePostabilityGrader\n",
    ")\n",
    "\n",
    "postability_system = \"\"\"You are a grader assessing whether a news article meets the following criteria:\n",
    "1. Mentions the player's market value.\n",
    "2. Mentions the player's current club.\n",
    "3. Contains at least 100 words.\n",
    "Provide three binary scores: one indicating if the article mentions the player's market value ('yes' or 'no'), one for mentioning the player's current club ('yes' or 'no'), and one for meeting the 100-word count ('yes' or 'no').\"\"\"\n",
    "postability_grade_prompt = ChatPromptTemplate.from_messages(\n",
    "    [(\"system\", postability_system), (\"human\", \"News Article:\\n\\n{article}\")]\n",
    ")\n",
    "\n",
    "news_chef = postability_grade_prompt | structured_llm_postability_grader"
   ]
  },
  {
   "cell_type": "code",
   "execution_count": 12,
   "metadata": {},
   "outputs": [
    {
     "data": {
      "text/plain": [
       "ArticlePostabilityGrader(mentions_market_value='no', mentions_current_club='yes', meets_100_words='no')"
      ]
     },
     "execution_count": 12,
     "metadata": {},
     "output_type": "execute_result"
    }
   ],
   "source": [
    "news_chef.invoke({\"article\": \"Messi will switch from FC Barcelona to Real Madrid in 2025\"})"
   ]
  },
  {
   "cell_type": "markdown",
   "metadata": {},
   "source": [
    "### Workflow"
   ]
  },
  {
   "cell_type": "code",
   "execution_count": null,
   "metadata": {},
   "outputs": [],
   "source": [
    "class SharedArticleState(TypedDict):\n",
    "    messages: List[BaseMessage]\n",
    "    mentions_market_value: str\n",
    "    mentions_current_club: str\n",
    "    meets_100_words: str\n",
    "\n",
    "# Normal node: Updates the state with classification results from news_chef\n",
    "def update_article_state(state: SharedArticleState) -> SharedArticleState:\n",
    "    article_content = state[\"messages\"][0].content  # Extract article content from messages\n",
    "    result = news_chef.invoke({\"article\": article_content})\n",
    "\n",
    "    state[\"mentions_market_value\"] = result.mentions_market_value\n",
    "    state[\"mentions_current_club\"] = result.mentions_current_club\n",
    "    state[\"meets_100_words\"] = result.meets_100_words\n",
    "    return state\n",
    "\n",
    "# Router function: Decides the next agent based on updated state\n",
    "def news_chef_decider(state: SharedArticleState) -> Literal[\"word_count_rewriter\", \"current_club_researcher\", \"market_value_researcher\"]:\n",
    "    if state[\"mentions_market_value\"] == \"yes\" and state[\"mentions_current_club\"] == \"yes\" and state[\"meets_100_words\"] == \"yes\":\n",
    "        return \"market_value_researcher\"\n",
    "    elif state[\"meets_100_words\"] == \"no\":\n",
    "        return \"word_count_rewriter\"\n",
    "    else:\n",
    "        return \"current_club_researcher\"\n",
    "\n",
    "# Workflow setup\n",
    "workflow = StateGraph(SharedArticleState)\n",
    "\n",
    "# Add nodes for each step\n",
    "workflow.add_node(\"news_chef\", update_article_state)\n",
    "workflow.add_node(\"word_count_rewriter\", word_count_rewriter_agent)\n",
    "workflow.add_node(\"current_club_researcher\", current_club_researcher_agent)\n",
    "workflow.add_node(\"market_value_researcher\", market_value_researcher_agent)\n",
    "\n",
    "# Set the entry point to start with news_chef\n",
    "workflow.set_entry_point(\"news_chef\")\n",
    "\n",
    "# Conditional routing based on the router function's decision\n",
    "workflow.add_conditional_edges(\n",
    "    \"news_chef\",\n",
    "    news_chef_decider,\n",
    "    {\n",
    "        \"word_count_rewriter\": \"word_count_rewriter\",\n",
    "        \"current_club_researcher\": \"current_club_researcher\",\n",
    "        \"market_value_researcher\": \"news_chef\",  # Reroutes to news_chef for further evaluation\n",
    "    },\n",
    ")\n",
    "\n",
    "# Loop edges to allow re-evaluation if needed\n",
    "workflow.add_edge(\"word_count_rewriter\", \"news_chef\")\n",
    "workflow.add_edge(\"current_club_researcher\", \"news_chef\")\n",
    "workflow.add_edge(\"market_value_researcher\", \"news_chef\")\n",
    "\n",
    "# Compile the workflow\n",
    "app = workflow.compile()\n",
    "\n"
   ]
  },
  {
   "cell_type": "code",
   "execution_count": null,
   "metadata": {},
   "outputs": [],
   "source": [
    "# Initial state with placeholders and a sample message\n",
    "initial_state = {\n",
    "    \"messages\": [HumanMessage(content=\"Messi will switch from FC Barcelona to Real Madrid in 2025\")],\n",
    "    \"mentions_market_value\": \"no\",\n",
    "    \"mentions_current_club\": \"no\",\n",
    "    \"meets_100_words\": \"no\"\n",
    "}\n",
    "\n",
    "result = app.invoke(initial_state)"
   ]
  },
  {
   "cell_type": "code",
   "execution_count": null,
   "metadata": {},
   "outputs": [],
   "source": []
  }
 ],
 "metadata": {
  "kernelspec": {
   "display_name": ".venv",
   "language": "python",
   "name": "python3"
  },
  "language_info": {
   "codemirror_mode": {
    "name": "ipython",
    "version": 3
   },
   "file_extension": ".py",
   "mimetype": "text/x-python",
   "name": "python",
   "nbconvert_exporter": "python",
   "pygments_lexer": "ipython3",
   "version": "3.11.0"
  }
 },
 "nbformat": 4,
 "nbformat_minor": 2
}
